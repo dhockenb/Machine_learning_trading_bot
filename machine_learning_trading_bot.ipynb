{
 "cells": [
  {
   "cell_type": "code",
   "execution_count": 671,
   "metadata": {},
   "outputs": [],
   "source": [
    "# Import required libraries and dependencies\n",
    "import pandas as pd\n",
    "import numpy as np\n",
    "from pathlib import Path\n",
    "import hvplot.pandas\n",
    "import matplotlib.pyplot as plt\n",
    "from sklearn import svm\n",
    "from sklearn.preprocessing import StandardScaler\n",
    "from pandas.tseries.offsets import DateOffset\n",
    "from sklearn.metrics import classification_report"
   ]
  },
  {
   "cell_type": "code",
   "execution_count": 672,
   "metadata": {},
   "outputs": [
    {
     "data": {
      "text/html": [
       "<div>\n",
       "<style scoped>\n",
       "    .dataframe tbody tr th:only-of-type {\n",
       "        vertical-align: middle;\n",
       "    }\n",
       "\n",
       "    .dataframe tbody tr th {\n",
       "        vertical-align: top;\n",
       "    }\n",
       "\n",
       "    .dataframe thead th {\n",
       "        text-align: right;\n",
       "    }\n",
       "</style>\n",
       "<table border=\"1\" class=\"dataframe\">\n",
       "  <thead>\n",
       "    <tr style=\"text-align: right;\">\n",
       "      <th></th>\n",
       "      <th>date</th>\n",
       "      <th>open</th>\n",
       "      <th>high</th>\n",
       "      <th>low</th>\n",
       "      <th>close</th>\n",
       "      <th>volume</th>\n",
       "    </tr>\n",
       "  </thead>\n",
       "  <tbody>\n",
       "    <tr>\n",
       "      <th>0</th>\n",
       "      <td>2015-01-21 09:30:00</td>\n",
       "      <td>23.83</td>\n",
       "      <td>23.83</td>\n",
       "      <td>23.83</td>\n",
       "      <td>23.83</td>\n",
       "      <td>100</td>\n",
       "    </tr>\n",
       "    <tr>\n",
       "      <th>1</th>\n",
       "      <td>2015-01-21 11:00:00</td>\n",
       "      <td>23.98</td>\n",
       "      <td>23.98</td>\n",
       "      <td>23.98</td>\n",
       "      <td>23.98</td>\n",
       "      <td>100</td>\n",
       "    </tr>\n",
       "    <tr>\n",
       "      <th>2</th>\n",
       "      <td>2015-01-22 15:00:00</td>\n",
       "      <td>24.42</td>\n",
       "      <td>24.42</td>\n",
       "      <td>24.42</td>\n",
       "      <td>24.42</td>\n",
       "      <td>100</td>\n",
       "    </tr>\n",
       "    <tr>\n",
       "      <th>3</th>\n",
       "      <td>2015-01-22 15:15:00</td>\n",
       "      <td>24.42</td>\n",
       "      <td>24.44</td>\n",
       "      <td>24.42</td>\n",
       "      <td>24.44</td>\n",
       "      <td>200</td>\n",
       "    </tr>\n",
       "    <tr>\n",
       "      <th>4</th>\n",
       "      <td>2015-01-22 15:30:00</td>\n",
       "      <td>24.46</td>\n",
       "      <td>24.46</td>\n",
       "      <td>24.46</td>\n",
       "      <td>24.46</td>\n",
       "      <td>200</td>\n",
       "    </tr>\n",
       "  </tbody>\n",
       "</table>\n",
       "</div>"
      ],
      "text/plain": [
       "                 date   open   high    low  close  volume\n",
       "0 2015-01-21 09:30:00  23.83  23.83  23.83  23.83     100\n",
       "1 2015-01-21 11:00:00  23.98  23.98  23.98  23.98     100\n",
       "2 2015-01-22 15:00:00  24.42  24.42  24.42  24.42     100\n",
       "3 2015-01-22 15:15:00  24.42  24.44  24.42  24.44     200\n",
       "4 2015-01-22 15:30:00  24.46  24.46  24.46  24.46     200"
      ]
     },
     "metadata": {},
     "output_type": "display_data"
    }
   ],
   "source": [
    "# Import the OHLCV dataset into a Pandas Dataframe\n",
    "ohlcv_df = pd.read_csv(\n",
    "    Path(\"emerging_markets_ohlcv.csv\"),\n",
    "    index_col='date', \n",
    "    infer_datetime_format=True, \n",
    "    parse_dates=True\n",
    ")\n",
    "\n",
    "ohlcv_df.reset_index(inplace=True)\n",
    "\n",
    "# Review the DataFrame\n",
    "display(ohlcv_df.head(5))"
   ]
  },
  {
   "cell_type": "code",
   "execution_count": 673,
   "metadata": {},
   "outputs": [],
   "source": [
    "# Rename columns and filter on date to eliminate duplicate closing prices for same day\n",
    "ohlcv_df.rename(columns = {'date':'datetime'}, inplace = True)\n",
    "ohlcv_df['date'] = pd.to_datetime(ohlcv_df['datetime']).dt.date\n",
    "ohlcv_df.drop_duplicates(subset=\"date\", keep=\"last\", ignore_index=True, inplace=True)\n",
    "ohlcv_df.head()\n"
   ]
  },
  {
   "cell_type": "code",
   "execution_count": 674,
   "metadata": {},
   "outputs": [
    {
     "data": {
      "text/html": [
       "<div>\n",
       "<style scoped>\n",
       "    .dataframe tbody tr th:only-of-type {\n",
       "        vertical-align: middle;\n",
       "    }\n",
       "\n",
       "    .dataframe tbody tr th {\n",
       "        vertical-align: top;\n",
       "    }\n",
       "\n",
       "    .dataframe thead th {\n",
       "        text-align: right;\n",
       "    }\n",
       "</style>\n",
       "<table border=\"1\" class=\"dataframe\">\n",
       "  <thead>\n",
       "    <tr style=\"text-align: right;\">\n",
       "      <th></th>\n",
       "      <th>close</th>\n",
       "      <th>Actual Returns</th>\n",
       "    </tr>\n",
       "    <tr>\n",
       "      <th>datetime</th>\n",
       "      <th></th>\n",
       "      <th></th>\n",
       "    </tr>\n",
       "  </thead>\n",
       "  <tbody>\n",
       "    <tr>\n",
       "      <th>2015-01-22 15:30:00</th>\n",
       "      <td>24.46</td>\n",
       "      <td>0.020017</td>\n",
       "    </tr>\n",
       "    <tr>\n",
       "      <th>2015-01-26 15:15:00</th>\n",
       "      <td>24.24</td>\n",
       "      <td>-0.008994</td>\n",
       "    </tr>\n",
       "    <tr>\n",
       "      <th>2015-01-27 15:45:00</th>\n",
       "      <td>24.12</td>\n",
       "      <td>-0.004950</td>\n",
       "    </tr>\n",
       "    <tr>\n",
       "      <th>2015-01-29 15:45:00</th>\n",
       "      <td>23.89</td>\n",
       "      <td>-0.009536</td>\n",
       "    </tr>\n",
       "    <tr>\n",
       "      <th>2015-01-30 13:30:00</th>\n",
       "      <td>23.75</td>\n",
       "      <td>-0.005860</td>\n",
       "    </tr>\n",
       "  </tbody>\n",
       "</table>\n",
       "</div>"
      ],
      "text/plain": [
       "                     close  Actual Returns\n",
       "datetime                                  \n",
       "2015-01-22 15:30:00  24.46        0.020017\n",
       "2015-01-26 15:15:00  24.24       -0.008994\n",
       "2015-01-27 15:45:00  24.12       -0.004950\n",
       "2015-01-29 15:45:00  23.89       -0.009536\n",
       "2015-01-30 13:30:00  23.75       -0.005860"
      ]
     },
     "metadata": {},
     "output_type": "display_data"
    },
    {
     "data": {
      "text/html": [
       "<div>\n",
       "<style scoped>\n",
       "    .dataframe tbody tr th:only-of-type {\n",
       "        vertical-align: middle;\n",
       "    }\n",
       "\n",
       "    .dataframe tbody tr th {\n",
       "        vertical-align: top;\n",
       "    }\n",
       "\n",
       "    .dataframe thead th {\n",
       "        text-align: right;\n",
       "    }\n",
       "</style>\n",
       "<table border=\"1\" class=\"dataframe\">\n",
       "  <thead>\n",
       "    <tr style=\"text-align: right;\">\n",
       "      <th></th>\n",
       "      <th>close</th>\n",
       "      <th>Actual Returns</th>\n",
       "    </tr>\n",
       "    <tr>\n",
       "      <th>datetime</th>\n",
       "      <th></th>\n",
       "      <th></th>\n",
       "    </tr>\n",
       "  </thead>\n",
       "  <tbody>\n",
       "    <tr>\n",
       "      <th>2021-01-13 13:15:00</th>\n",
       "      <td>32.65</td>\n",
       "      <td>0.002149</td>\n",
       "    </tr>\n",
       "    <tr>\n",
       "      <th>2021-01-14 15:45:00</th>\n",
       "      <td>32.85</td>\n",
       "      <td>0.006126</td>\n",
       "    </tr>\n",
       "    <tr>\n",
       "      <th>2021-01-19 12:30:00</th>\n",
       "      <td>32.97</td>\n",
       "      <td>0.003653</td>\n",
       "    </tr>\n",
       "    <tr>\n",
       "      <th>2021-01-20 09:45:00</th>\n",
       "      <td>33.50</td>\n",
       "      <td>0.016075</td>\n",
       "    </tr>\n",
       "    <tr>\n",
       "      <th>2021-01-22 15:45:00</th>\n",
       "      <td>33.44</td>\n",
       "      <td>-0.001791</td>\n",
       "    </tr>\n",
       "  </tbody>\n",
       "</table>\n",
       "</div>"
      ],
      "text/plain": [
       "                     close  Actual Returns\n",
       "datetime                                  \n",
       "2021-01-13 13:15:00  32.65        0.002149\n",
       "2021-01-14 15:45:00  32.85        0.006126\n",
       "2021-01-19 12:30:00  32.97        0.003653\n",
       "2021-01-20 09:45:00  33.50        0.016075\n",
       "2021-01-22 15:45:00  33.44       -0.001791"
      ]
     },
     "metadata": {},
     "output_type": "display_data"
    },
    {
     "data": {},
     "metadata": {},
     "output_type": "display_data"
    },
    {
     "data": {
      "application/vnd.holoviews_exec.v0+json": "",
      "text/html": [
       "<div id='3553'>\n",
       "\n",
       "\n",
       "\n",
       "\n",
       "\n",
       "  <div class=\"bk-root\" id=\"4bafea53-4694-4da5-a722-07b7c7f44d49\" data-root-id=\"3553\"></div>\n",
       "</div>\n",
       "<script type=\"application/javascript\">(function(root) {\n",
       "  function embed_document(root) {\n",
       "    var docs_json = {\"ef83c047-4798-4fdf-a8a4-2414762209f4\":{\"defs\":[{\"extends\":null,\"module\":null,\"name\":\"ReactiveHTML1\",\"overrides\":[],\"properties\":[]},{\"extends\":null,\"module\":null,\"name\":\"FlexBox1\",\"overrides\":[],\"properties\":[{\"default\":\"flex-start\",\"kind\":null,\"name\":\"align_content\"},{\"default\":\"flex-start\",\"kind\":null,\"name\":\"align_items\"},{\"default\":\"row\",\"kind\":null,\"name\":\"flex_direction\"},{\"default\":\"wrap\",\"kind\":null,\"name\":\"flex_wrap\"},{\"default\":\"flex-start\",\"kind\":null,\"name\":\"justify_content\"}]},{\"extends\":null,\"module\":null,\"name\":\"TemplateActions1\",\"overrides\":[],\"properties\":[{\"default\":0,\"kind\":null,\"name\":\"open_modal\"},{\"default\":0,\"kind\":null,\"name\":\"close_modal\"}]},{\"extends\":null,\"module\":null,\"name\":\"MaterialTemplateActions1\",\"overrides\":[],\"properties\":[{\"default\":0,\"kind\":null,\"name\":\"open_modal\"},{\"default\":0,\"kind\":null,\"name\":\"close_modal\"}]}],\"roots\":{\"references\":[{\"attributes\":{\"end\":0.08831938063641481,\"reset_end\":0.08831938063641481,\"reset_start\":-0.12981810663037457,\"start\":-0.12981810663037457,\"tags\":[[[\"Actual Returns\",\"Actual Returns\",null]]]},\"id\":\"3556\",\"type\":\"Range1d\"},{\"attributes\":{},\"id\":\"3602\",\"type\":\"AllLabels\"},{\"attributes\":{\"tools\":[{\"id\":\"3557\"},{\"id\":\"3575\"},{\"id\":\"3576\"},{\"id\":\"3577\"},{\"id\":\"3578\"},{\"id\":\"3579\"}]},\"id\":\"3581\",\"type\":\"Toolbar\"},{\"attributes\":{},\"id\":\"3565\",\"type\":\"LinearScale\"},{\"attributes\":{},\"id\":\"3599\",\"type\":\"AllLabels\"},{\"attributes\":{\"axis\":{\"id\":\"3567\"},\"coordinates\":null,\"grid_line_color\":null,\"group\":null,\"ticker\":null},\"id\":\"3570\",\"type\":\"Grid\"},{\"attributes\":{\"coordinates\":null,\"group\":null,\"text_color\":\"black\",\"text_font_size\":\"12pt\"},\"id\":\"3559\",\"type\":\"Title\"},{\"attributes\":{},\"id\":\"3576\",\"type\":\"PanTool\"},{\"attributes\":{\"axis_label\":\"Actual Returns\",\"coordinates\":null,\"formatter\":{\"id\":\"3601\"},\"group\":null,\"major_label_policy\":{\"id\":\"3602\"},\"ticker\":{\"id\":\"3572\"}},\"id\":\"3571\",\"type\":\"LinearAxis\"},{\"attributes\":{\"axis_label\":\"datetime\",\"coordinates\":null,\"formatter\":{\"id\":\"3598\"},\"group\":null,\"major_label_policy\":{\"id\":\"3599\"},\"ticker\":{\"id\":\"3568\"}},\"id\":\"3567\",\"type\":\"DatetimeAxis\"},{\"attributes\":{\"axis\":{\"id\":\"3571\"},\"coordinates\":null,\"dimension\":1,\"grid_line_color\":null,\"group\":null,\"ticker\":null},\"id\":\"3574\",\"type\":\"Grid\"},{\"attributes\":{\"num_minor_ticks\":5,\"tickers\":[{\"id\":\"3613\"},{\"id\":\"3614\"},{\"id\":\"3615\"},{\"id\":\"3616\"},{\"id\":\"3617\"},{\"id\":\"3618\"},{\"id\":\"3619\"},{\"id\":\"3620\"},{\"id\":\"3621\"},{\"id\":\"3622\"},{\"id\":\"3623\"},{\"id\":\"3624\"}]},\"id\":\"3568\",\"type\":\"DatetimeTicker\"},{\"attributes\":{},\"id\":\"3572\",\"type\":\"BasicTicker\"},{\"attributes\":{},\"id\":\"3563\",\"type\":\"LinearScale\"},{\"attributes\":{\"margin\":[5,5,5,5],\"name\":\"HSpacer04632\",\"sizing_mode\":\"stretch_width\"},\"id\":\"3647\",\"type\":\"Spacer\"},{\"attributes\":{\"below\":[{\"id\":\"3567\"}],\"center\":[{\"id\":\"3570\"},{\"id\":\"3574\"}],\"height\":300,\"left\":[{\"id\":\"3571\"}],\"margin\":[5,5,5,5],\"min_border_bottom\":10,\"min_border_left\":10,\"min_border_right\":10,\"min_border_top\":10,\"renderers\":[{\"id\":\"3594\"}],\"sizing_mode\":\"fixed\",\"title\":{\"id\":\"3559\"},\"toolbar\":{\"id\":\"3581\"},\"width\":700,\"x_range\":{\"id\":\"3555\"},\"x_scale\":{\"id\":\"3563\"},\"y_range\":{\"id\":\"3556\"},\"y_scale\":{\"id\":\"3565\"}},\"id\":\"3558\",\"subtype\":\"Figure\",\"type\":\"Plot\"},{\"attributes\":{},\"id\":\"3577\",\"type\":\"WheelZoomTool\"},{\"attributes\":{},\"id\":\"3575\",\"type\":\"SaveTool\"},{\"attributes\":{\"children\":[{\"id\":\"3554\"},{\"id\":\"3558\"},{\"id\":\"3647\"}],\"margin\":[0,0,0,0],\"name\":\"Row04627\",\"tags\":[\"embedded\"]},\"id\":\"3553\",\"type\":\"Row\"},{\"attributes\":{\"overlay\":{\"id\":\"3580\"}},\"id\":\"3578\",\"type\":\"BoxZoomTool\"},{\"attributes\":{},\"id\":\"3579\",\"type\":\"ResetTool\"},{\"attributes\":{\"line_color\":\"#30a2da\",\"line_width\":2,\"x\":{\"field\":\"datetime\"},\"y\":{\"field\":\"Actual Returns\"}},\"id\":\"3596\",\"type\":\"Line\"},{\"attributes\":{\"mantissas\":[1,2,5],\"max_interval\":500.0,\"num_minor_ticks\":0},\"id\":\"3613\",\"type\":\"AdaptiveTicker\"},{\"attributes\":{\"margin\":[5,5,5,5],\"name\":\"HSpacer04631\",\"sizing_mode\":\"stretch_width\"},\"id\":\"3554\",\"type\":\"Spacer\"},{\"attributes\":{},\"id\":\"3589\",\"type\":\"Selection\"},{\"attributes\":{\"bottom_units\":\"screen\",\"coordinates\":null,\"fill_alpha\":0.5,\"fill_color\":\"lightgrey\",\"group\":null,\"left_units\":\"screen\",\"level\":\"overlay\",\"line_alpha\":1.0,\"line_color\":\"black\",\"line_dash\":[4,4],\"line_width\":2,\"right_units\":\"screen\",\"syncable\":false,\"top_units\":\"screen\"},\"id\":\"3580\",\"type\":\"BoxAnnotation\"},{\"attributes\":{\"base\":60,\"mantissas\":[1,2,5,10,15,20,30],\"max_interval\":1800000.0,\"min_interval\":1000.0,\"num_minor_ticks\":0},\"id\":\"3614\",\"type\":\"AdaptiveTicker\"},{\"attributes\":{},\"id\":\"3598\",\"type\":\"DatetimeTickFormatter\"},{\"attributes\":{\"base\":24,\"mantissas\":[1,2,4,6,8,12],\"max_interval\":43200000.0,\"min_interval\":3600000.0,\"num_minor_ticks\":0},\"id\":\"3615\",\"type\":\"AdaptiveTicker\"},{\"attributes\":{},\"id\":\"3624\",\"type\":\"YearsTicker\"},{\"attributes\":{\"months\":[0,1,2,3,4,5,6,7,8,9,10,11]},\"id\":\"3620\",\"type\":\"MonthsTicker\"},{\"attributes\":{\"coordinates\":null,\"data_source\":{\"id\":\"3588\"},\"glyph\":{\"id\":\"3591\"},\"group\":null,\"hover_glyph\":null,\"muted_glyph\":{\"id\":\"3593\"},\"nonselection_glyph\":{\"id\":\"3592\"},\"selection_glyph\":{\"id\":\"3596\"},\"view\":{\"id\":\"3595\"}},\"id\":\"3594\",\"type\":\"GlyphRenderer\"},{\"attributes\":{\"days\":[1,15]},\"id\":\"3619\",\"type\":\"DaysTicker\"},{\"attributes\":{\"days\":[1,2,3,4,5,6,7,8,9,10,11,12,13,14,15,16,17,18,19,20,21,22,23,24,25,26,27,28,29,30,31]},\"id\":\"3616\",\"type\":\"DaysTicker\"},{\"attributes\":{\"source\":{\"id\":\"3588\"}},\"id\":\"3595\",\"type\":\"CDSView\"},{\"attributes\":{\"days\":[1,4,7,10,13,16,19,22,25,28]},\"id\":\"3617\",\"type\":\"DaysTicker\"},{\"attributes\":{},\"id\":\"3601\",\"type\":\"BasicTickFormatter\"},{\"attributes\":{\"days\":[1,8,15,22]},\"id\":\"3618\",\"type\":\"DaysTicker\"},{\"attributes\":{\"months\":[0,6]},\"id\":\"3623\",\"type\":\"MonthsTicker\"},{\"attributes\":{\"months\":[0,2,4,6,8,10]},\"id\":\"3621\",\"type\":\"MonthsTicker\"},{\"attributes\":{\"line_alpha\":0.1,\"line_color\":\"#30a2da\",\"line_width\":2,\"x\":{\"field\":\"datetime\"},\"y\":{\"field\":\"Actual Returns\"}},\"id\":\"3592\",\"type\":\"Line\"},{\"attributes\":{\"callback\":null,\"formatters\":{\"@{datetime}\":\"datetime\"},\"renderers\":[{\"id\":\"3594\"}],\"tags\":[\"hv_created\"],\"tooltips\":[[\"datetime\",\"@{datetime}{%F %T}\"],[\"Actual Returns\",\"@{Actual_Returns}\"]]},\"id\":\"3557\",\"type\":\"HoverTool\"},{\"attributes\":{\"months\":[0,4,8]},\"id\":\"3622\",\"type\":\"MonthsTicker\"},{\"attributes\":{\"line_alpha\":0.2,\"line_color\":\"#30a2da\",\"line_width\":2,\"x\":{\"field\":\"datetime\"},\"y\":{\"field\":\"Actual Returns\"}},\"id\":\"3593\",\"type\":\"Line\"},{\"attributes\":{\"data\":{\"Actual Returns\":{\"__ndarray__\":\"wDCksUB/lD/ATN5Wl2uCv4DZYmX4RnS/QDz29G2Hg7+AV4112wB4vwD2w+qSa3Y/gCopIOEnhz8AcOtdFiNLv4DdpOZKdnm/AEAwQlZUWz8AWimeOv2MPwDt7QqmlXw/AAAAAAAAAAAAOHXpd7c6vwDk0vtBukq/ADg84Ne/Or8AYSRkIsd/P5Ds1uo6oqG/AKz8MEigdD8AnNG1AdByv4ADhmo65oI/AO5RBf25cj8AvO5SgWuJP0DSCwGqaYK/gO5V4qBsg78ABP1tvEyYP8BTwa2hPZA/gBJmzjGtgz8AMP+T4zttv8DkfFZ/vpI/AC3Dnz1ogj8ARFU2ijVmPwDGNk49pG8/AK3gkXHpcr8AaP9xgKpvPwCvMWizFHY/QHVca2POjb9AJ86I5bGUP0B/J6vljZG/AG2WAcxmab+AtWjTz1KQP2Dx4Oi7upa/YJoB0Gymmb8ArfdiZxZyv8CXLH/J8oe/AKmQbd1ofL8AfmtBCdRwvwC19uTfuXw/AIdUitEiZL8AwFXwBuo6P4BnSq+/OIm/AGBZNM5tVD8AP7tuvgBhvwBwoQ3gQjs/ALQBMPk/iz8AGNJw9l6IPwBn3wwinGC/QAOrpMWkgL+A0SIUQHVyv8AciAZfA4C/AAAAAAAAAACAE9hnClqgvwAk5BCdjIG/4GYj4E9rn7/gQVVHRcupPwD5WXW6H3M/ALGhl/pNcb8AlNNUh9pUv4BZBMzGnoa/QCS9QzGYgb+AvtLleit+v6Bw62eqiZC/AFJRVtxacD+AQMOOPgGDP4DeMImKsXy/gLHBxQYXiz9AGftNyoSMvwDQCJ3N+oI/QH2cFir4ib8AvJlKHwZtvwDi7MNn2GW/gBJYb8xAgr8AIoq/yBlmPwDkM7qPCma/iHn6aDUJsb8A6Ab+2y6Xv8Cc/ta4g6w/AIKYHoCYXr/wIuabacOgvwAsu06tunu/gGN7W9swpD+A9AmbxfB4v4CPQ8ga/Ys/gMgLWwW1iT9gowkXHoCvv4AwYcKECZM/gD7i6H0Anj+AoUhgZrmQPwD09G4oVGq/QBeOcacclz8Au8EU+ayLPwAb6LSBTnu/APFLKzI+g78AWA72yJlNPwDgVpo1LnY/gKh1AFtigj9A1l2BQk+BvwBW4b66zog/ANR3Nuo7e7/AS6m2ATGDv8AJQdn7moC/AAAAAAAAAACARanIpZOZPwDBCYoPx2W/AMAoAI/XXT+AAe+OV3mZvwDzmjsAsoG/AKWBbPlNer8AAAAAAAAAAMBT+sf2BJE/AGSksRTDXT8Az97A79l7v0BHgotKXoe/AIMVny3NdD+Qb8s+6jisv0AuZfs85oa/gMG31sMmdr8AMkMLQVKavwAKASgEoIA/gMc7EFbMij8AEhpPunOKP4AMC5ijH3y/gILfWJlLmj8ATZskg7hjv+AEqccST5C/gL7hVhQScL/gSjKf/yylvwBFHIt61IA/wLEElLPdhL9grYSXziChv4DV0+UfoXO/AGizakmIQT8AEkD64oVhP0B73LHtCoi/AOdxLpTMgj+gL7mYuQmdvwAtSEDNroc/QAj5OeDzkr8Ahga2urdmP4DZoMmXDZo/gFwOtAzufr8AYtyvSyp/PwBcDrQM7m6/AIEZ+A4Mjz8Aa1AhRB+ZP0CPzvLi2Y2/wMBDrzC4hr8AXuEVXuF1PwDuPwkWS3w/ACpeIQ/waT9gc0i+h1CivwBOurpv4FG/gMHjJSfYer8APGIybuOAP0CRGAiXl50/gJq2ApRjjj8AD/1heRxhv4A/isjRrpE/oKnlwl19k7+gL6+92S6RvwCkSxJelY4/AAe42Btfcz9Am4HpOseaP4AsgU37yZI/AEgBzSCAhD+ALtkoT0iDvwDLoy+0r3w/AJq1XNNqeL/AX3LiNuOQPwCkggFKKlg/IAwgXc+WkL8Adc+CAKONP4DeunRxK4c/AOMd4h3ifT8AXAHTc8F1PwCjnY84em+/wIUlCJu8hL8A4jR4DOxfvwAI8H8A/E8/gJ0GmRJ5kj9AieRr6p2Dv+Cqu4EyUpK/wNxe53KWkD8gSAK4082Sv6APeolgOqU/AAmkJHdLd78AR46h+oVjvwCDWgzne3c/ALskYqFZZ78AkAJp0YmCPwCqYaTIVnM/ABWxVMRScT8Aam+O06pevwABEsLzzXw/ADhDa/fhdr+AEYpQhCKEP4CYB8Cmr3i/AIj0QOXsVj8AdPG9Tfx0vwABunqArm6/AHNBxgUZZ78AzfCSc02DPwD4rhz4rnw/ANAttmXjdD8AUscDRMh0PwDbvZAQUWq/ANThv3e+hD8ANCDGN4mEP4B/HiPykn2/ACCg3AHKPT8AuAPgisZdPwDS3DqJSmY/gM/1x8tghL8A2OwzVPA9vwCNBmail3Q/gOZcbpTDcL8AaAE2n3FWPwCIR2tZ4j2/AMw74EjRgL8AeJLuNSU+vwBxazAJGo8/gPeboPR+gz8AAAAAAAAAAADgNtGMbT0/wKh1AFtikr8AbB6133ZmP8D+1RNTvJG/APCrIpWyaD8ATWkJzRiJPwDQsuM5lXQ/gBvWvmHte78ADjkRxX5mPwB5zDal5pY/wEEd1EEdlL8A/rMm6RxqvwCfK3dZz48/AEQBm6JEdL8APIDzoqBtvwCQJgvYuYA/ABbHYARbgz+gWKj/wLeSvwBjpLEUw22/ACeDXhNFeL+ApDWLRjuLPwCgPRagPVY/AGyUeUGCYj9AmtfyVFCEvwDYFuPl102/AGpqeBxWh79ArD4VrD6VvyDwehv9oaA/AJBHa1niTb+A1dPlH6GTv2DztD1yrZC/gMBF4CJwgb8Asrc2THNnPwD/Xg6fiXE/gIULHwBBiD8AALp6gK4+PwCP06oeAGe/AM3cpsH8eL8AKbLVBCR5PwBAUIzQ6Go/AHu23pbyhz8AQ11kkNR0PwB4ku41JT6/wDCKB8DKg78AZ+RQl6V6P4DrhzMS6XK/QJBwaYb/gr8AArp6gK5+v4AqNPpVL3e/AChAxNQWTz8AEDCGSQ8/v8B0AQRLToe/AAxeWqBuXz8ABJVAiaCCPwATqPpEbnO/gO0CFN5Cjj+AbXCJuSl1vwBpWu6iCow/ACRnlekTYz8AZ+RQl6V6PwCA2bi2QT6/ADCY9fezRj8Atcrd7ml7PwCRI91UiXY/gLkM43etcr8ABCBZuER6P4A8W+0ftoG/AK4cBmbOcj8AjQZmopd0vwCKaAdBV2q/AIFLwCXgcj9AFrGnO2GRPwDg5+iHjz2/ABDzVdd7cj8ADQgld4qGvwCwTMObU0Y/ADg6UZ+/bT8At/CrMZF+vwCkuwPAVHc/AFp3JSOPUr+AnZbO6tSFPwB07zMran0/ABpIAuuNaT8AjiZnv6d3vwAuKTRk9nU/AAAAAAAAAAAALJFaiiBdPwDNdkMRLHI/AMBEXG7yTD8A9yx9bhNiv4Brn4BQ1YS/ACwpNGT2Vb8AJk+XlVJ9v4AbMB0JE5E/QCSc0rz4g78A4F7K8VU9PwB4kX6dU2K/AISaTWpjbT8AkuGahUhdvwBf1QFYgIC/APgkeAZVdD8ARcICeGSCPwBI7Op+Kk0/ANjKul9/aT+AXvyJhFOKPwCQ/5NTrkw/AGdU0uenfD8AZIGM8HRsv4BKLmf12HG/AKr/rr6CZT8AthrrGJtsvwD88TbCtFw/AE6/3e19Vb8A3jCJirF8PwCaXNDUXmW/gKoyR/Pacb8AAAAAAAAAAACn5OYnhXU/AKg8xFxoVb8A4LPBtZQ8PwAAAAAAAAAAACIemwukc78AAAAAAAAAAAB6NamRh1W/gJJB458meb+AHVFdDyyBPwC835+BB5G/gHOCQTcNhD8AWCPzGeI8v4C+dk8wk4Y/ACNirdM4hz8AMLD8ATJVvwBoRWEMTEw/AHZGd/xvcz8AUHJwKZ9oPwAZMWLEiGG/AMIB0G4dfL8AelYWYjt1PwCU3A3OKWw/gBC5mJEwiz8AEFCyOMZkPwCAvXkGoSu/AMJKcQt0Zj8A4fVCVWR2PwAE5WOdjkS/gCGqyBokir/ABNqRQDuCvwCo4iWjJ4s/APK6vlvveT8AqGMuEZ5UvwB08nUT924/AMkLWwW1eT8ASAHk+m9kv4DpDNmyDIe/AHQWDKREYT+AKs0XC9GDPwAAAAAAAAAAACDotIFOOz8AAAAAAAAAAAAfu0WyeHQ/QJmxjluFg78AtC5ywWtbPwCwAdgGYDs/AOj5+rzIfr8AtiGPVzthPwCBAV9K6oI/AJ5VDzyrbr8AnNG1AdByPwAod/ASPUs/AAZ9QV/Qdz8AAAAAAAAAAEA3wWolfZC/APNlRWY4jT8AhNy+Vh1rPwCa0IhwBms/AHzl+6ZNjr8A2vXqiBZxv4BdUgBvl4Q/AA0e75wuez8AywEdtyiKPwAIQs+RVHI/ABg45wIUgz8AJg0gbkx6vwDAx5fz2VM/AMU0T08Agz8AwKOghTE6PwDeU9T86Ha/AL/Sd4tUej8AdnKg7llgvwB/arx0k3g/gGQWzElJcL8A7oPNfSlavwCIg7/9HX8/ALqhG7qhe78AnK9dNAByPwAH1VrySoA/AGL+16FlYz9A0RvBE72BvyACn1aCvZS/AOrZxH3sYz+ATzKKIVyGPwBEHOviNkq/AJTu9PVQdT8An/bjfBl6vwAXXlVAs3M/gLw7Rc7UlD8AV69sH51xPwCh20QlunS/AEu81hg+e7+AnTKe3b6BPwB8Nt9HMVM/QKTlQdtbir8AAhtHixV5PwA41FodWGs/AM4BajrbbL+At/CrMZGOPwCc6kiMBVM/AO5ljjNVWb8A8DMsDrdfPwAy7qowk3Q/APycPd5+fz8AIt1IzsBSvwA4aZ5OxlK/QLdJ6VdygL8Aohs0eK+HvwDU7C+IK1M/AOS7PKnpX78AI1Fq7GFmv4DagdBtqI0/gMDTrflhgT8AsCE8NxIpv4CK0Jq1jIU/AOizwHwpdL8A8AHLByxfPwASAU2oVXc/AP5igM6/aD8A9GsPuaxoPwCKAfbAmWg/AMKAdCxlUr8ANpGu9I1oP8A0m+VDEo2/AEP0tr4OiD+Agf3axiV9vwDYcgGjuDi/gLAwlKWjdb+AKAhJLPqEP4B3k67Y/nO/AJo+LGfSaz8AEx2G5ZB1PwCsEHJpY1I/AJKAcCJeYj8A9cGofG94PwDse1cXQWW/AO6+4+Jle78AAAAAAAAAAACsEHJpY1I/wLegDKv1hr8AXO8B4lB6v0CUtkkPh5E/AHnRioPZgD+ARrPUaJaKPwDKvwYo/2q/AH6v66sOYr9AErALN+KIvwCKB8PMems/QP7k5gEbib+Atoj8iwZ0v4AHC9WZL46/AM0KDl9IgT8AQO+7/ih/vwCorsz6RIG/AEpMx4bqaj8AuCLA+FSDPwAJdg71I3w/AKDR+NLXOD+Aae/kuBJxvwAsAa0EtFK/gFRdg325gj8ANd2nD45yvwBkznrLEG8/gERZo3E/gD8AUkTKY7RevwCAtWAenDg/gA4hqbTpgL8Ak5YfFVt6PwBwsQ8/G4c/gHWt4jNfiD8AMO3H0xU4P4BuJWmBUIQ/ACRWnyXcdD8ARgV1E8pRv4DBcwSKtnq/ADIqukHgbT8ABn1BX9B3PwCyqIbZwVG/gNAJ7slniz8AK5CDsIphvwAPlSuLTH0/AHTRRRddZD8A9H9budyCPwBCRwfPAGc/ACAjuFHwZj8AIg398CdRv4DGDUUyMYu/AD7q3Y4baj+ASBxXfKCAv4CRCr4x25G/AMWb8HXInr+AP+n0DbWXP4CG+OPW5Y2/cC+hvYT2or8AMJt/xjQ5P4BJDdGUWIw/gBOdZtvcgT8AD0FvN/CQPwBvX1m9S44/AFBaUSXiRz9As0tyVyeBvwDEEeEiD2U/AAAAAAAAAAAAyIEcyIGMPwAoGYtqmF2/gEDYZr7Lm78A6Hme53levwBcWtfdUXI/AHAf409RSL+A+tegFLuAPwDwGRdRLF4/gJycnJycjD+A9N4lPBSBPwAzb+j/dH2/AIid9e/EdD+AWpt0cAt8vwCUcCGGx1e/wJqypqwpm78AMy3R5f2JvwDSbmsCS5U/AFgIDmkZj7+AKdoi8i96v8DusNdPxJM/IITq+T+Tl78AGXcIj66CPwDUs6ng2n4/AHZBXNQXfT9AFwJndpuKv4DOlSSsLJA/ACIBxJwyYj9ABm8utzWIvwAAAAAAAAAAACA3QNt/aD8Af71aC8uAP4BcMHEUqHC/wFm4klQBg78A6OyCd2pSP4Cwq/Dlhni/gPBGU+fXfr+A4AoMO/iLPwAmwa7Cl2s/AFAfeEaOXr8AJrZ0WwV6vwDMRZmYpUi/ACzZcliqeL8AJ12PaQ9xPwBAthhAtmi/AGzCYr37fj+ADiGptOmQPwAAAAAAAAAAAH/wNGRrhL8A/EV7XVVSv4C1JMAJl36/APVZvXkIdD8AkIa8P4lYPwA8MNjfb2W/AHQD1U+QaL8AQMGangR0PwBxEwX7c5W/gMDHNlAskz8Aw5EFtwt3PwCTEwvsGIM/ABiAgwE4SL8A0YbPH3OEvwBG2aD2mV6/AAAAAAAAAACAOpYyCXZ1v8BBysZ4HZe/ANH+oU7rYr9AewntJbSHvwAeau1cL3M/gGYkL5Xeh78gd4oWzoCQvwCDG3VBgJY/QNpEWLmeib8AuGHCz/E5vwDwNdxUd3O/AOW4mSsUij8A2eVDLR6EPwCIEYgRiHG/AFRSNymcWT8AJ9FGafZvv4A4vg87C4A/ANZbuV0aU78AsBywHLB8vwBvCk1geIY/QB4koeJBgr8A5qjd4p6RPwCYfWRLMlm/AOA/GMJjbD8Ajr/3ZW9vvwDNf9wJ73I/AOLQSfsgWb/ANUXwd02RvwBmZmZmZnY/AII1tcdMgj9AM0WaZ8GOvwB2TYOQ0ny/ANCcATTNOT/gfbtHGGudvwD4GufbvoQ/AFyAdlbuez8AuWxdWvNxP4CaJwr8/ok/AHYXRq1Acz8ABsFKN16QPwBmLJKoSmw/gCUHgfYmnr8ApmJbb3iPvwAwXmOSOTo/ADJVMCqpY7+ANADhSAOAv4Adq8SOWJA/gEf5eH4bgb8Afx4j8pJ9PwBhOHm1NIU/AHwfiAPVeT8A9MmykatpPwBN834Kl2m/ALZwfB92Zj/AmZmZmZmFvwDE/J99QXg/YKLcN1lKk79AbqMBvAWSv4DpeNUABX6/AEX97lqFd78A9YKr28SZvwCdiAl4RHi/ADZQoOX5lz8AWccMso6Jv4AA6mF+0pA/wEj12C8Rhr9A705gyruTv4ArtxGGfo8/IHoJaGoEn78AbSiUyuBovwBTfLqXY4W/gLsv7NfRjD9AKz7o6t6UP8ADnEYnR5I/gB6SS0c/gD8Ajpk0OMFnPwCMDxlnTVS/gMaPoa0shT8gPKkzmR6UvwCYUIp28Ye/gDJS+Ph+hr+AbE2M+d6FPwBwFUP2sjs/AEgas3hchz+A0YFFBxaNP4BWrbudtpG/QEHpWZUIiL8A28MO9JSGPwCmYy4RnmQ/wLrL2/pHkD8A8Vuart5wv4CNhP6+Spc/QP4oVBs4kr8gLQ8wmIySvwDB7YmLLHG/AEc0jQ4/gb+APjulsL2FPwCmyhOmyoM/AOSIicdFS79A66IID1OFv0DftWV6Ioi/ABn1qmgwcz/gBMyYgBmTvwB6VhZiO2U/gGZgNuO0eL8AAvoRyqF6PwAFqFb/KnW/AO1GQEq7cT8A+cMBjz98vwBWVVVVVWU/QNRBHdRBjb9AqnEJPKKZPwAIbYEuFGw/AKzkrqD7az+AnHddpV+PPwCrdn/+Ln0/gI/1tZwLcb8AXobY2B1xvwC6ETVOWHY/AM9EORYUhz8AhO9Dq21uPwDlNZTXUH4/ABE+n9aVi78AFbiWAYGOPwCTgHAiXnI/QHTRRRddlD8A5LiZKxRqvwD0Iloen3M/AD6vsflFcD+Adxz5O1CIvwDHbJsU93a/AGCKNtVkSj8A6rgpn3twPwAAAAAAAAAAABheVUCzUz8AHJm1yoNtP4BM9jyh34Y/AGNGocVthz+A1OwviCtzvwARVeokrnm/QPt9NKuchr8AgBgsHJlzPwBswRZswXY/gF/9/iaFj7+AW3y87c2HvwDCCQEL25E/ADQeOEJTYD8ACvdLU8+GP4AX1HVBXYc/ALDEe499Ob8AhBWEFYSVv4CnVHC8TY0/wCp1EtcMkD8AewntJbR3PwDby1zhR3w/AI6bhSY1X7+ACHYO9SN8v4At9RpbrYM/AK/SWnTyaL8AwMnQeMRyvwC8cLxPbF8/AEC4UiEXSb8Ah1Uszq16P8DYcP6vJoG/AJT7AI6ng79gKzcxtHKTvwCGdIDuLmA/ACq8495ckb8AFUQdH6WYv4A45nQpdo0/AAAAAAAAAAAA7IhG5o1av0BqYO+YGoi/AMpV8Abqer8AXMOOmRdrPwAAAAAAAAAAQC+nvc6Ijb8A7L7j4mVbPwAIW00tWns/AEPzuf54eT8AW+DDjUB0PwDyJGA0y4A/wIN3zDyogL8AUG4zut46P0Bsr1/uJJQ/AGaOxXDBU7+ARI4PZV96v4CUGz61vJQ/wOPZYBGzkj+AMgFknimDvwDtRkBKu4G/AD6rjSI0iT8AGBgYGBiIP8DrViG8boW/AGba7sKodb9AY2KgvlaBvwDB5BH4tII/ABMKjJrKeb8AQJ0lcfR5PwAAAAAAAAAAAEyGl6AecL8AOofNsORZvwDUlecu71k/ADyHzbDkWT8AfIstO9pJvwC6ySQEC4e/ACCuIR1mgr+g7nN+k72Rv8Ducr8g+Jy/gNwjGidrgD8AAjBABZN0P4DvGzo/D4E/AFGXpRp0fr+AyFeYDt13v6BWe325SZC/AOAbADEiej8AaIEWaIGGPwAhC1nIQnY/ALQBMPk/az8A6m1Eh/lgPwBUeVvQaHm/QEipeW4xgL8AepXFGe1uPwDXOmo3inQ/QFtBkvq2lT8ALhNzsi6IPwDquCmfe2A/AJDZdtZROj8AG9tEBpl9PwBwV0Mcl2M/ADyykzfqcT9ApU5EQSKJv8AWXlVAs4O/AJF9HEvdeL8ArxqgwIOGv4C3bwzSw4Y/AHKtEGRYYr8AN90R4jhzP0AHkzN44pE/ALCr8OWGeD8ABEEQBEFgP4AU9ze4k3u/gL9pz+xUgD8ALm7C/K5mPwCYKGKsY2M/AJAH6fNXUz8Aeiv7HFJjvwD2hvdBNYg/AF9JpLIghz8ArzFosxR2PwAczdz8X2+/AFgW1ZNScb8ALwFmRPpivwBAJVvvxne/AKD6BaSCWb8AmQEw04x5P+Cz/7ZfD5G/kM8v564JsD9AXejw5seGvwAHNCbWG3q/AJBF+MfpXj8AqFwhGq9IPwBRNIGjv3s/AOdEENKffj8ASQBbLiiPPwA3kd1EdnO/gE+8725Mgb8AUc6gyEV4PwAsfSxmp3w/oGdjRvDXk78Alx1JldpzP4BN59ujZX6/wFcpcORfgr8Ayo+9D6eavwCusK/e93o/AEDWF0I3WT9ASGbQqweGvwAMCQtffJO/AEbJ0Vt1gz/AG4LoTrWbPwCgLjm1Jny/AAqmQd14dD+Aep1U8O+FPwDKnP8xzli/AJzR+NLXSL+A5yR7EcF1vwB82+QUy6C/ADPVWPqSgr+AVuGcPB2BP8BRqd4GKpC/YA0hgdUQkr+ALzzg17+KP4AZjXRD4Yw/wG2cBkM5ib9w+yGBtx+yv0BaeMvOSZE/YJD/k7qQkL8Y/ZUacJS8v2C9nQPH9LE/kM4Hichrt7+A21xJC+6QP1CFe0G9NKa/ALQ/adpokT8A6jTcvaxiP8Dp9+hTU4i/wA4l12ftqT/gi0Wje7CkPwDt+/F8tY0/sEgdDxAho78AIp1pJRmVPwAcemQuJ3U/IC/umPVCoL+ADWLW+EmRPwATqPpEbnO/AFVEKJNtpz8AQr0tXM1wPwBN/3GxK3g/AOBWmjUuVr8A3FOPNZ1Nv4AMUexNFZg/oCA5UR4slr+A2ykpulmEP4DEHXFH3JE/AGiBFmiBhr8ALpFaiiB9v4A7ITsWK5Q/ACPHzvhfdz9ASFnbl8uWP2DxkJNPnKe/gPxlH+OVij8AwWhuUG+YPwAocQDsSEy/ALeBIRPZb7+AFZzBmFB1vwCoMkfz2mE/wJA3l3bVmT/AnGy4ph2Dv4BnE9HTDIU/QAZqyUAtib/gNp7w3caTv0CUv1pu45o/gB98952xfb8AoC45tSZ8P0DwKZB/Vpk/QK5/eabjlD/AOoR6yQ2UPwDINRHINYE/AKABGqABSj8gxOLPAGycvwBCTTuKEW4/ABErSuMjgz8ApTByt291PwAkHlrRhn0/AGQWzElJYL8AVlhZJhxavwAwXjcdnXM/gKeVYC+Fg7+Abrtx6rabP4ChywfMr6Y/AOdEENKffj/Ai4noEMKDvwA6ka70jVi/AAyF/zy9Xj9AAU+8JnqFv4D6ot9OQYc/gLCr8OWGiD+AQrTh88eMv4A/u41mgnW/AHifFXifZT+AEx2G5ZCFPwASOddTcGu/gEWJdnwPjT8AythXEd6Fv8DngMnDh4G/AJax/Y5eiT8AQKeuUL5zP4Aa3HmROo4/AHzWgDTaZD8AGXEm+jKPvwDXolOrpXk/AALxd0D8bT+Arw/EkiqEv4AoPKanCp0/AMSaEQh5Vz8gsO11WguTv4CHxvrQWI8/AA700P+Qm7+ArKsKyal2vwCEsoVQtnA/wETTYkkokj8AMvgbsVqAvwDGBwFp+3S/QMvP/70iob/A2UFnB52dPwAXCWoqRHs/gH6v66sOgr+ANmDBwaecPwCWwBl2A28/gJBJ8QKZhD8AGAFDuHphvwDkYLdJhFE/AIKDhT8/ar8Afyer5Y1hv0D58MmqbJO/AIm0h+etgr8AI6WmSjaQPwBU7IsEuWo/wDanqzwTnz8A7qHVxZGKPwDBjg0vhZk/QLrFgXNImr+AceaffgmBP4ANiG74TYK/gLpEfqZPhT+AwWhYUreKP0DDY+6cWYG/ANrSDddlZj8Ah8HRCiaCPwBiAXf6I3Y/gJpoookmer+AS7PNmEeZPwC0rfQIoUW/AJSFgd0Nez8AhUKhUCiEvwCXIbLubXg/gL7N0imchz8AlfmyY6yEv4Atcer33HK/AHJKCPdsfD8Aqz2OJZePvwCGpCkVZ48/AA9CbTLchj+AWnjLzkmBPwAVcTLuq40/AKJyc50ybz8AFLGcUBRPv0A3YX5Xi5s/APahR8RocD8AdiT42ZlhPwBCuFIhF3k/AN4BSNTsbT9Ar+6+BXaQPwB+Ta8vWF2/\",\"dtype\":\"float64\",\"order\":\"little\",\"shape\":[1059]},\"Actual_Returns\":{\"__ndarray__\":\"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\",\"dtype\":\"float64\",\"order\":\"little\",\"shape\":[1059]},\"datetime\":{\"__ndarray__\":\"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\",\"dtype\":\"float64\",\"order\":\"little\",\"shape\":[1059]}},\"selected\":{\"id\":\"3589\"},\"selection_policy\":{\"id\":\"3610\"}},\"id\":\"3588\",\"type\":\"ColumnDataSource\"},{\"attributes\":{\"line_color\":\"#30a2da\",\"line_width\":2,\"x\":{\"field\":\"datetime\"},\"y\":{\"field\":\"Actual Returns\"}},\"id\":\"3591\",\"type\":\"Line\"},{\"attributes\":{\"end\":1611330300000.0,\"reset_end\":1611330300000.0,\"reset_start\":1421940600000.0,\"start\":1421940600000.0,\"tags\":[[[\"datetime\",\"datetime\",null]]]},\"id\":\"3555\",\"type\":\"Range1d\"},{\"attributes\":{},\"id\":\"3610\",\"type\":\"UnionRenderers\"}],\"root_ids\":[\"3553\"]},\"title\":\"Bokeh Application\",\"version\":\"2.4.1\"}};\n",
       "    var render_items = [{\"docid\":\"ef83c047-4798-4fdf-a8a4-2414762209f4\",\"root_ids\":[\"3553\"],\"roots\":{\"3553\":\"4bafea53-4694-4da5-a722-07b7c7f44d49\"}}];\n",
       "    root.Bokeh.embed.embed_items_notebook(docs_json, render_items);\n",
       "  }\n",
       "  if (root.Bokeh !== undefined && root.Bokeh.Panel !== undefined) {\n",
       "    embed_document(root);\n",
       "  } else {\n",
       "    var attempts = 0;\n",
       "    var timer = setInterval(function(root) {\n",
       "      if (root.Bokeh !== undefined && root.Bokeh.Panel !== undefined) {\n",
       "        clearInterval(timer);\n",
       "        embed_document(root);\n",
       "      } else if (document.readyState == \"complete\") {\n",
       "        attempts++;\n",
       "        if (attempts > 200) {\n",
       "          clearInterval(timer);\n",
       "          console.log(\"Bokeh: ERROR: Unable to run BokehJS code because BokehJS library is missing\");\n",
       "        }\n",
       "      }\n",
       "    }, 25, root)\n",
       "  }\n",
       "})(window);</script>"
      ],
      "text/plain": [
       ":Curve   [datetime]   (Actual Returns)"
      ]
     },
     "execution_count": 674,
     "metadata": {
      "application/vnd.holoviews_exec.v0+json": {
       "id": "3553"
      }
     },
     "output_type": "execute_result"
    }
   ],
   "source": [
    "# Filter the date index and close columns\n",
    "signals_df = ohlcv_df.loc[:, [\"datetime\", \"close\"]]\n",
    "\n",
    "# Use the pct_change function to generate  returns from close prices\n",
    "signals_df[\"Actual Returns\"] = signals_df[\"close\"].pct_change()\n",
    "\n",
    "# Drop all NaN values from the DataFrame\n",
    "signals_df = signals_df.dropna()\n",
    "signals_df.set_index('datetime', inplace=True)\n",
    "\n",
    "# Review the DataFrame\n",
    "display(signals_df.head())\n",
    "display(signals_df.tail())\n",
    "\n",
    "# Plot Actual Returns\n",
    "signals_df.hvplot.line(y=\"Actual Returns\")"
   ]
  },
  {
   "cell_type": "code",
   "execution_count": 675,
   "metadata": {},
   "outputs": [
    {
     "data": {
      "text/html": [
       "<div>\n",
       "<style scoped>\n",
       "    .dataframe tbody tr th:only-of-type {\n",
       "        vertical-align: middle;\n",
       "    }\n",
       "\n",
       "    .dataframe tbody tr th {\n",
       "        vertical-align: top;\n",
       "    }\n",
       "\n",
       "    .dataframe thead th {\n",
       "        text-align: right;\n",
       "    }\n",
       "</style>\n",
       "<table border=\"1\" class=\"dataframe\">\n",
       "  <thead>\n",
       "    <tr style=\"text-align: right;\">\n",
       "      <th></th>\n",
       "      <th>close</th>\n",
       "      <th>Actual Returns</th>\n",
       "      <th>SMA_Fast</th>\n",
       "      <th>SMA_Slow</th>\n",
       "    </tr>\n",
       "    <tr>\n",
       "      <th>datetime</th>\n",
       "      <th></th>\n",
       "      <th></th>\n",
       "      <th></th>\n",
       "      <th></th>\n",
       "    </tr>\n",
       "  </thead>\n",
       "  <tbody>\n",
       "    <tr>\n",
       "      <th>2015-10-07 15:45:00</th>\n",
       "      <td>22.20</td>\n",
       "      <td>0.022570</td>\n",
       "      <td>21.7800</td>\n",
       "      <td>23.6922</td>\n",
       "    </tr>\n",
       "    <tr>\n",
       "      <th>2015-10-08 15:45:00</th>\n",
       "      <td>22.50</td>\n",
       "      <td>0.013514</td>\n",
       "      <td>22.0475</td>\n",
       "      <td>23.6726</td>\n",
       "    </tr>\n",
       "    <tr>\n",
       "      <th>2015-10-12 15:30:00</th>\n",
       "      <td>22.35</td>\n",
       "      <td>-0.006667</td>\n",
       "      <td>22.1900</td>\n",
       "      <td>23.6537</td>\n",
       "    </tr>\n",
       "    <tr>\n",
       "      <th>2015-10-13 15:45:00</th>\n",
       "      <td>22.14</td>\n",
       "      <td>-0.009396</td>\n",
       "      <td>22.2975</td>\n",
       "      <td>23.6339</td>\n",
       "    </tr>\n",
       "    <tr>\n",
       "      <th>2015-10-14 12:30:00</th>\n",
       "      <td>22.16</td>\n",
       "      <td>0.000903</td>\n",
       "      <td>22.2875</td>\n",
       "      <td>23.6166</td>\n",
       "    </tr>\n",
       "  </tbody>\n",
       "</table>\n",
       "</div>"
      ],
      "text/plain": [
       "                     close  Actual Returns  SMA_Fast  SMA_Slow\n",
       "datetime                                                      \n",
       "2015-10-07 15:45:00  22.20        0.022570   21.7800   23.6922\n",
       "2015-10-08 15:45:00  22.50        0.013514   22.0475   23.6726\n",
       "2015-10-12 15:30:00  22.35       -0.006667   22.1900   23.6537\n",
       "2015-10-13 15:45:00  22.14       -0.009396   22.2975   23.6339\n",
       "2015-10-14 12:30:00  22.16        0.000903   22.2875   23.6166"
      ]
     },
     "metadata": {},
     "output_type": "display_data"
    },
    {
     "data": {
      "text/html": [
       "<div>\n",
       "<style scoped>\n",
       "    .dataframe tbody tr th:only-of-type {\n",
       "        vertical-align: middle;\n",
       "    }\n",
       "\n",
       "    .dataframe tbody tr th {\n",
       "        vertical-align: top;\n",
       "    }\n",
       "\n",
       "    .dataframe thead th {\n",
       "        text-align: right;\n",
       "    }\n",
       "</style>\n",
       "<table border=\"1\" class=\"dataframe\">\n",
       "  <thead>\n",
       "    <tr style=\"text-align: right;\">\n",
       "      <th></th>\n",
       "      <th>close</th>\n",
       "      <th>Actual Returns</th>\n",
       "      <th>SMA_Fast</th>\n",
       "      <th>SMA_Slow</th>\n",
       "    </tr>\n",
       "    <tr>\n",
       "      <th>datetime</th>\n",
       "      <th></th>\n",
       "      <th></th>\n",
       "      <th></th>\n",
       "      <th></th>\n",
       "    </tr>\n",
       "  </thead>\n",
       "  <tbody>\n",
       "    <tr>\n",
       "      <th>2021-01-13 13:15:00</th>\n",
       "      <td>32.65</td>\n",
       "      <td>0.002149</td>\n",
       "      <td>32.3200</td>\n",
       "      <td>27.6881</td>\n",
       "    </tr>\n",
       "    <tr>\n",
       "      <th>2021-01-14 15:45:00</th>\n",
       "      <td>32.85</td>\n",
       "      <td>0.006126</td>\n",
       "      <td>32.6325</td>\n",
       "      <td>27.7881</td>\n",
       "    </tr>\n",
       "    <tr>\n",
       "      <th>2021-01-19 12:30:00</th>\n",
       "      <td>32.97</td>\n",
       "      <td>0.003653</td>\n",
       "      <td>32.7625</td>\n",
       "      <td>27.8833</td>\n",
       "    </tr>\n",
       "    <tr>\n",
       "      <th>2021-01-20 09:45:00</th>\n",
       "      <td>33.50</td>\n",
       "      <td>0.016075</td>\n",
       "      <td>32.9925</td>\n",
       "      <td>27.9855</td>\n",
       "    </tr>\n",
       "    <tr>\n",
       "      <th>2021-01-22 15:45:00</th>\n",
       "      <td>33.44</td>\n",
       "      <td>-0.001791</td>\n",
       "      <td>33.1900</td>\n",
       "      <td>28.0855</td>\n",
       "    </tr>\n",
       "  </tbody>\n",
       "</table>\n",
       "</div>"
      ],
      "text/plain": [
       "                     close  Actual Returns  SMA_Fast  SMA_Slow\n",
       "datetime                                                      \n",
       "2021-01-13 13:15:00  32.65        0.002149   32.3200   27.6881\n",
       "2021-01-14 15:45:00  32.85        0.006126   32.6325   27.7881\n",
       "2021-01-19 12:30:00  32.97        0.003653   32.7625   27.8833\n",
       "2021-01-20 09:45:00  33.50        0.016075   32.9925   27.9855\n",
       "2021-01-22 15:45:00  33.44       -0.001791   33.1900   28.0855"
      ]
     },
     "metadata": {},
     "output_type": "display_data"
    }
   ],
   "source": [
    "# Set the short window and long SMA windows\n",
    "short_window = 4\n",
    "long_window = 100\n",
    "\n",
    "# Generate the fast and slow simple moving averages (4 and 100 days, respectively) in new signals1 dataframe\n",
    "signals1_df = signals_df.copy()\n",
    "signals1_df['SMA_Fast'] = signals1_df['close'].rolling(window=short_window).mean()\n",
    "signals1_df['SMA_Slow'] = signals1_df['close'].rolling(window=long_window).mean()\n",
    "\n",
    "signals1_df = signals1_df.dropna()\n",
    "\n",
    "# Review the DataFrame\n",
    "display(signals1_df.head())\n",
    "display(signals1_df.tail())"
   ]
  },
  {
   "cell_type": "code",
   "execution_count": 676,
   "metadata": {},
   "outputs": [
    {
     "data": {
      "text/html": [
       "<div>\n",
       "<style scoped>\n",
       "    .dataframe tbody tr th:only-of-type {\n",
       "        vertical-align: middle;\n",
       "    }\n",
       "\n",
       "    .dataframe tbody tr th {\n",
       "        vertical-align: top;\n",
       "    }\n",
       "\n",
       "    .dataframe thead th {\n",
       "        text-align: right;\n",
       "    }\n",
       "</style>\n",
       "<table border=\"1\" class=\"dataframe\">\n",
       "  <thead>\n",
       "    <tr style=\"text-align: right;\">\n",
       "      <th></th>\n",
       "      <th>close</th>\n",
       "      <th>Actual Returns</th>\n",
       "      <th>SMA_Fast</th>\n",
       "      <th>SMA_Slow</th>\n",
       "      <th>Signal</th>\n",
       "    </tr>\n",
       "    <tr>\n",
       "      <th>datetime</th>\n",
       "      <th></th>\n",
       "      <th></th>\n",
       "      <th></th>\n",
       "      <th></th>\n",
       "      <th></th>\n",
       "    </tr>\n",
       "  </thead>\n",
       "  <tbody>\n",
       "    <tr>\n",
       "      <th>2015-10-07 15:45:00</th>\n",
       "      <td>22.20</td>\n",
       "      <td>0.022570</td>\n",
       "      <td>21.7800</td>\n",
       "      <td>23.6922</td>\n",
       "      <td>1.0</td>\n",
       "    </tr>\n",
       "    <tr>\n",
       "      <th>2015-10-08 15:45:00</th>\n",
       "      <td>22.50</td>\n",
       "      <td>0.013514</td>\n",
       "      <td>22.0475</td>\n",
       "      <td>23.6726</td>\n",
       "      <td>1.0</td>\n",
       "    </tr>\n",
       "    <tr>\n",
       "      <th>2015-10-12 15:30:00</th>\n",
       "      <td>22.35</td>\n",
       "      <td>-0.006667</td>\n",
       "      <td>22.1900</td>\n",
       "      <td>23.6537</td>\n",
       "      <td>-1.0</td>\n",
       "    </tr>\n",
       "    <tr>\n",
       "      <th>2015-10-13 15:45:00</th>\n",
       "      <td>22.14</td>\n",
       "      <td>-0.009396</td>\n",
       "      <td>22.2975</td>\n",
       "      <td>23.6339</td>\n",
       "      <td>-1.0</td>\n",
       "    </tr>\n",
       "    <tr>\n",
       "      <th>2015-10-14 12:30:00</th>\n",
       "      <td>22.16</td>\n",
       "      <td>0.000903</td>\n",
       "      <td>22.2875</td>\n",
       "      <td>23.6166</td>\n",
       "      <td>1.0</td>\n",
       "    </tr>\n",
       "  </tbody>\n",
       "</table>\n",
       "</div>"
      ],
      "text/plain": [
       "                     close  Actual Returns  SMA_Fast  SMA_Slow  Signal\n",
       "datetime                                                              \n",
       "2015-10-07 15:45:00  22.20        0.022570   21.7800   23.6922     1.0\n",
       "2015-10-08 15:45:00  22.50        0.013514   22.0475   23.6726     1.0\n",
       "2015-10-12 15:30:00  22.35       -0.006667   22.1900   23.6537    -1.0\n",
       "2015-10-13 15:45:00  22.14       -0.009396   22.2975   23.6339    -1.0\n",
       "2015-10-14 12:30:00  22.16        0.000903   22.2875   23.6166     1.0"
      ]
     },
     "metadata": {},
     "output_type": "display_data"
    },
    {
     "data": {
      "text/html": [
       "<div>\n",
       "<style scoped>\n",
       "    .dataframe tbody tr th:only-of-type {\n",
       "        vertical-align: middle;\n",
       "    }\n",
       "\n",
       "    .dataframe tbody tr th {\n",
       "        vertical-align: top;\n",
       "    }\n",
       "\n",
       "    .dataframe thead th {\n",
       "        text-align: right;\n",
       "    }\n",
       "</style>\n",
       "<table border=\"1\" class=\"dataframe\">\n",
       "  <thead>\n",
       "    <tr style=\"text-align: right;\">\n",
       "      <th></th>\n",
       "      <th>close</th>\n",
       "      <th>Actual Returns</th>\n",
       "      <th>SMA_Fast</th>\n",
       "      <th>SMA_Slow</th>\n",
       "      <th>Signal</th>\n",
       "    </tr>\n",
       "    <tr>\n",
       "      <th>datetime</th>\n",
       "      <th></th>\n",
       "      <th></th>\n",
       "      <th></th>\n",
       "      <th></th>\n",
       "      <th></th>\n",
       "    </tr>\n",
       "  </thead>\n",
       "  <tbody>\n",
       "    <tr>\n",
       "      <th>2021-01-13 13:15:00</th>\n",
       "      <td>32.65</td>\n",
       "      <td>0.002149</td>\n",
       "      <td>32.3200</td>\n",
       "      <td>27.6881</td>\n",
       "      <td>1.0</td>\n",
       "    </tr>\n",
       "    <tr>\n",
       "      <th>2021-01-14 15:45:00</th>\n",
       "      <td>32.85</td>\n",
       "      <td>0.006126</td>\n",
       "      <td>32.6325</td>\n",
       "      <td>27.7881</td>\n",
       "      <td>1.0</td>\n",
       "    </tr>\n",
       "    <tr>\n",
       "      <th>2021-01-19 12:30:00</th>\n",
       "      <td>32.97</td>\n",
       "      <td>0.003653</td>\n",
       "      <td>32.7625</td>\n",
       "      <td>27.8833</td>\n",
       "      <td>1.0</td>\n",
       "    </tr>\n",
       "    <tr>\n",
       "      <th>2021-01-20 09:45:00</th>\n",
       "      <td>33.50</td>\n",
       "      <td>0.016075</td>\n",
       "      <td>32.9925</td>\n",
       "      <td>27.9855</td>\n",
       "      <td>1.0</td>\n",
       "    </tr>\n",
       "    <tr>\n",
       "      <th>2021-01-22 15:45:00</th>\n",
       "      <td>33.44</td>\n",
       "      <td>-0.001791</td>\n",
       "      <td>33.1900</td>\n",
       "      <td>28.0855</td>\n",
       "      <td>-1.0</td>\n",
       "    </tr>\n",
       "  </tbody>\n",
       "</table>\n",
       "</div>"
      ],
      "text/plain": [
       "                     close  Actual Returns  SMA_Fast  SMA_Slow  Signal\n",
       "datetime                                                              \n",
       "2021-01-13 13:15:00  32.65        0.002149   32.3200   27.6881     1.0\n",
       "2021-01-14 15:45:00  32.85        0.006126   32.6325   27.7881     1.0\n",
       "2021-01-19 12:30:00  32.97        0.003653   32.7625   27.8833     1.0\n",
       "2021-01-20 09:45:00  33.50        0.016075   32.9925   27.9855     1.0\n",
       "2021-01-22 15:45:00  33.44       -0.001791   33.1900   28.0855    -1.0"
      ]
     },
     "metadata": {},
     "output_type": "display_data"
    }
   ],
   "source": [
    "# Initialize the new Signal column\n",
    "signals1_df['Signal'] = 0.0\n",
    "\n",
    "# When Actual Returns are greater than or equal to 0, generate signal to buy stock long\n",
    "signals1_df.loc[(signals1_df['Actual Returns'] >= 0), 'Signal'] = 1\n",
    "\n",
    "# When Actual Returns are less than 0, generate signal to sell stock short\n",
    "signals1_df.loc[(signals1_df['Actual Returns'] < 0), 'Signal'] = -1\n",
    "\n",
    "# Review the DataFrame\n",
    "display(signals1_df.head())\n",
    "display(signals1_df.tail())"
   ]
  },
  {
   "cell_type": "code",
   "execution_count": 677,
   "metadata": {},
   "outputs": [
    {
     "data": {
      "text/plain": [
       " 1.0    533\n",
       "-1.0    427\n",
       "Name: Signal, dtype: int64"
      ]
     },
     "execution_count": 677,
     "metadata": {},
     "output_type": "execute_result"
    }
   ],
   "source": [
    "# Review distribution of Signal values\n",
    "signals1_df['Signal'].value_counts()"
   ]
  },
  {
   "cell_type": "code",
   "execution_count": 678,
   "metadata": {},
   "outputs": [
    {
     "data": {
      "text/html": [
       "<div>\n",
       "<style scoped>\n",
       "    .dataframe tbody tr th:only-of-type {\n",
       "        vertical-align: middle;\n",
       "    }\n",
       "\n",
       "    .dataframe tbody tr th {\n",
       "        vertical-align: top;\n",
       "    }\n",
       "\n",
       "    .dataframe thead th {\n",
       "        text-align: right;\n",
       "    }\n",
       "</style>\n",
       "<table border=\"1\" class=\"dataframe\">\n",
       "  <thead>\n",
       "    <tr style=\"text-align: right;\">\n",
       "      <th></th>\n",
       "      <th>close</th>\n",
       "      <th>Actual Returns</th>\n",
       "      <th>SMA_Fast</th>\n",
       "      <th>SMA_Slow</th>\n",
       "      <th>Signal</th>\n",
       "      <th>Strategy Returns</th>\n",
       "    </tr>\n",
       "    <tr>\n",
       "      <th>datetime</th>\n",
       "      <th></th>\n",
       "      <th></th>\n",
       "      <th></th>\n",
       "      <th></th>\n",
       "      <th></th>\n",
       "      <th></th>\n",
       "    </tr>\n",
       "  </thead>\n",
       "  <tbody>\n",
       "    <tr>\n",
       "      <th>2015-10-08 15:45:00</th>\n",
       "      <td>22.50</td>\n",
       "      <td>0.013514</td>\n",
       "      <td>22.0475</td>\n",
       "      <td>23.6726</td>\n",
       "      <td>1.0</td>\n",
       "      <td>0.013514</td>\n",
       "    </tr>\n",
       "    <tr>\n",
       "      <th>2015-10-12 15:30:00</th>\n",
       "      <td>22.35</td>\n",
       "      <td>-0.006667</td>\n",
       "      <td>22.1900</td>\n",
       "      <td>23.6537</td>\n",
       "      <td>-1.0</td>\n",
       "      <td>-0.006667</td>\n",
       "    </tr>\n",
       "    <tr>\n",
       "      <th>2015-10-13 15:45:00</th>\n",
       "      <td>22.14</td>\n",
       "      <td>-0.009396</td>\n",
       "      <td>22.2975</td>\n",
       "      <td>23.6339</td>\n",
       "      <td>-1.0</td>\n",
       "      <td>0.009396</td>\n",
       "    </tr>\n",
       "    <tr>\n",
       "      <th>2015-10-14 12:30:00</th>\n",
       "      <td>22.16</td>\n",
       "      <td>0.000903</td>\n",
       "      <td>22.2875</td>\n",
       "      <td>23.6166</td>\n",
       "      <td>1.0</td>\n",
       "      <td>-0.000903</td>\n",
       "    </tr>\n",
       "    <tr>\n",
       "      <th>2015-10-15 11:15:00</th>\n",
       "      <td>22.28</td>\n",
       "      <td>0.005415</td>\n",
       "      <td>22.2325</td>\n",
       "      <td>23.6019</td>\n",
       "      <td>1.0</td>\n",
       "      <td>0.005415</td>\n",
       "    </tr>\n",
       "  </tbody>\n",
       "</table>\n",
       "</div>"
      ],
      "text/plain": [
       "                     close  Actual Returns  SMA_Fast  SMA_Slow  Signal  \\\n",
       "datetime                                                                 \n",
       "2015-10-08 15:45:00  22.50        0.013514   22.0475   23.6726     1.0   \n",
       "2015-10-12 15:30:00  22.35       -0.006667   22.1900   23.6537    -1.0   \n",
       "2015-10-13 15:45:00  22.14       -0.009396   22.2975   23.6339    -1.0   \n",
       "2015-10-14 12:30:00  22.16        0.000903   22.2875   23.6166     1.0   \n",
       "2015-10-15 11:15:00  22.28        0.005415   22.2325   23.6019     1.0   \n",
       "\n",
       "                     Strategy Returns  \n",
       "datetime                               \n",
       "2015-10-08 15:45:00          0.013514  \n",
       "2015-10-12 15:30:00         -0.006667  \n",
       "2015-10-13 15:45:00          0.009396  \n",
       "2015-10-14 12:30:00         -0.000903  \n",
       "2015-10-15 11:15:00          0.005415  "
      ]
     },
     "metadata": {},
     "output_type": "display_data"
    },
    {
     "data": {
      "text/html": [
       "<div>\n",
       "<style scoped>\n",
       "    .dataframe tbody tr th:only-of-type {\n",
       "        vertical-align: middle;\n",
       "    }\n",
       "\n",
       "    .dataframe tbody tr th {\n",
       "        vertical-align: top;\n",
       "    }\n",
       "\n",
       "    .dataframe thead th {\n",
       "        text-align: right;\n",
       "    }\n",
       "</style>\n",
       "<table border=\"1\" class=\"dataframe\">\n",
       "  <thead>\n",
       "    <tr style=\"text-align: right;\">\n",
       "      <th></th>\n",
       "      <th>close</th>\n",
       "      <th>Actual Returns</th>\n",
       "      <th>SMA_Fast</th>\n",
       "      <th>SMA_Slow</th>\n",
       "      <th>Signal</th>\n",
       "      <th>Strategy Returns</th>\n",
       "    </tr>\n",
       "    <tr>\n",
       "      <th>datetime</th>\n",
       "      <th></th>\n",
       "      <th></th>\n",
       "      <th></th>\n",
       "      <th></th>\n",
       "      <th></th>\n",
       "      <th></th>\n",
       "    </tr>\n",
       "  </thead>\n",
       "  <tbody>\n",
       "    <tr>\n",
       "      <th>2021-01-13 13:15:00</th>\n",
       "      <td>32.65</td>\n",
       "      <td>0.002149</td>\n",
       "      <td>32.3200</td>\n",
       "      <td>27.6881</td>\n",
       "      <td>1.0</td>\n",
       "      <td>0.002149</td>\n",
       "    </tr>\n",
       "    <tr>\n",
       "      <th>2021-01-14 15:45:00</th>\n",
       "      <td>32.85</td>\n",
       "      <td>0.006126</td>\n",
       "      <td>32.6325</td>\n",
       "      <td>27.7881</td>\n",
       "      <td>1.0</td>\n",
       "      <td>0.006126</td>\n",
       "    </tr>\n",
       "    <tr>\n",
       "      <th>2021-01-19 12:30:00</th>\n",
       "      <td>32.97</td>\n",
       "      <td>0.003653</td>\n",
       "      <td>32.7625</td>\n",
       "      <td>27.8833</td>\n",
       "      <td>1.0</td>\n",
       "      <td>0.003653</td>\n",
       "    </tr>\n",
       "    <tr>\n",
       "      <th>2021-01-20 09:45:00</th>\n",
       "      <td>33.50</td>\n",
       "      <td>0.016075</td>\n",
       "      <td>32.9925</td>\n",
       "      <td>27.9855</td>\n",
       "      <td>1.0</td>\n",
       "      <td>0.016075</td>\n",
       "    </tr>\n",
       "    <tr>\n",
       "      <th>2021-01-22 15:45:00</th>\n",
       "      <td>33.44</td>\n",
       "      <td>-0.001791</td>\n",
       "      <td>33.1900</td>\n",
       "      <td>28.0855</td>\n",
       "      <td>-1.0</td>\n",
       "      <td>-0.001791</td>\n",
       "    </tr>\n",
       "  </tbody>\n",
       "</table>\n",
       "</div>"
      ],
      "text/plain": [
       "                     close  Actual Returns  SMA_Fast  SMA_Slow  Signal  \\\n",
       "datetime                                                                 \n",
       "2021-01-13 13:15:00  32.65        0.002149   32.3200   27.6881     1.0   \n",
       "2021-01-14 15:45:00  32.85        0.006126   32.6325   27.7881     1.0   \n",
       "2021-01-19 12:30:00  32.97        0.003653   32.7625   27.8833     1.0   \n",
       "2021-01-20 09:45:00  33.50        0.016075   32.9925   27.9855     1.0   \n",
       "2021-01-22 15:45:00  33.44       -0.001791   33.1900   28.0855    -1.0   \n",
       "\n",
       "                     Strategy Returns  \n",
       "datetime                               \n",
       "2021-01-13 13:15:00          0.002149  \n",
       "2021-01-14 15:45:00          0.006126  \n",
       "2021-01-19 12:30:00          0.003653  \n",
       "2021-01-20 09:45:00          0.016075  \n",
       "2021-01-22 15:45:00         -0.001791  "
      ]
     },
     "metadata": {},
     "output_type": "display_data"
    }
   ],
   "source": [
    "# Calculate the strategy returns based on signal from previous day and add them to the signals1_df DataFrame\n",
    "signals1_df['Strategy Returns'] = signals1_df['Actual Returns'] * signals1_df['Signal'].shift()\n",
    "signals1_df = signals1_df.dropna()\n",
    "\n",
    "# Review the DataFrame\n",
    "display(signals1_df.head())\n",
    "display(signals1_df.tail())"
   ]
  },
  {
   "cell_type": "code",
   "execution_count": 679,
   "metadata": {},
   "outputs": [
    {
     "data": {
      "text/plain": [
       "<AxesSubplot:xlabel='datetime'>"
      ]
     },
     "execution_count": 679,
     "metadata": {},
     "output_type": "execute_result"
    },
    {
     "data": {
      "image/png": "[encoded data removed]",
      "text/plain": [
       "<Figure size 432x288 with 1 Axes>"
      ]
     },
     "metadata": {
      "needs_background": "light"
     },
     "output_type": "display_data"
    }
   ],
   "source": [
    "# Plot Strategy Returns to examine performance\n",
    "(1 + signals1_df['Strategy Returns']).cumprod().plot()"
   ]
  },
  {
   "cell_type": "code",
   "execution_count": 680,
   "metadata": {},
   "outputs": [
    {
     "data": {
      "text/html": [
       "<div>\n",
       "<style scoped>\n",
       "    .dataframe tbody tr th:only-of-type {\n",
       "        vertical-align: middle;\n",
       "    }\n",
       "\n",
       "    .dataframe tbody tr th {\n",
       "        vertical-align: top;\n",
       "    }\n",
       "\n",
       "    .dataframe thead th {\n",
       "        text-align: right;\n",
       "    }\n",
       "</style>\n",
       "<table border=\"1\" class=\"dataframe\">\n",
       "  <thead>\n",
       "    <tr style=\"text-align: right;\">\n",
       "      <th></th>\n",
       "      <th>SMA_Fast</th>\n",
       "      <th>SMA_Slow</th>\n",
       "    </tr>\n",
       "    <tr>\n",
       "      <th>datetime</th>\n",
       "      <th></th>\n",
       "      <th></th>\n",
       "    </tr>\n",
       "  </thead>\n",
       "  <tbody>\n",
       "    <tr>\n",
       "      <th>2015-10-12 15:30:00</th>\n",
       "      <td>22.0475</td>\n",
       "      <td>23.6726</td>\n",
       "    </tr>\n",
       "    <tr>\n",
       "      <th>2015-10-13 15:45:00</th>\n",
       "      <td>22.1900</td>\n",
       "      <td>23.6537</td>\n",
       "    </tr>\n",
       "    <tr>\n",
       "      <th>2015-10-14 12:30:00</th>\n",
       "      <td>22.2975</td>\n",
       "      <td>23.6339</td>\n",
       "    </tr>\n",
       "    <tr>\n",
       "      <th>2015-10-15 11:15:00</th>\n",
       "      <td>22.2875</td>\n",
       "      <td>23.6166</td>\n",
       "    </tr>\n",
       "    <tr>\n",
       "      <th>2015-10-19 15:45:00</th>\n",
       "      <td>22.2325</td>\n",
       "      <td>23.6019</td>\n",
       "    </tr>\n",
       "  </tbody>\n",
       "</table>\n",
       "</div>"
      ],
      "text/plain": [
       "                     SMA_Fast  SMA_Slow\n",
       "datetime                               \n",
       "2015-10-12 15:30:00   22.0475   23.6726\n",
       "2015-10-13 15:45:00   22.1900   23.6537\n",
       "2015-10-14 12:30:00   22.2975   23.6339\n",
       "2015-10-15 11:15:00   22.2875   23.6166\n",
       "2015-10-19 15:45:00   22.2325   23.6019"
      ]
     },
     "execution_count": 680,
     "metadata": {},
     "output_type": "execute_result"
    }
   ],
   "source": [
    "# Assign a copy of the sma_fast and sma_slow columns to a features DataFrame called X\n",
    "X = signals1_df[['SMA_Fast', 'SMA_Slow']].shift().dropna()\n",
    "\n",
    "# Review the DataFrame\n",
    "X.head()"
   ]
  },
  {
   "cell_type": "code",
   "execution_count": 681,
   "metadata": {},
   "outputs": [
    {
     "data": {
      "text/plain": [
       " 1.0    532\n",
       "-1.0    427\n",
       "Name: Signal, dtype: int64"
      ]
     },
     "execution_count": 681,
     "metadata": {},
     "output_type": "execute_result"
    }
   ],
   "source": [
    "# Create the target set selecting the Signal column and assigning it to y\n",
    "y = signals1_df['Signal']\n",
    "\n",
    "# Review the value counts\n",
    "y.value_counts()"
   ]
  },
  {
   "cell_type": "code",
   "execution_count": 682,
   "metadata": {},
   "outputs": [
    {
     "name": "stdout",
     "output_type": "stream",
     "text": [
      "2015-10-12 15:30:00\n"
     ]
    }
   ],
   "source": [
    "# Select the start of the training period\n",
    "training_begin = X.index.min()\n",
    "\n",
    "# Display the training begin date\n",
    "print(training_begin)"
   ]
  },
  {
   "cell_type": "code",
   "execution_count": 683,
   "metadata": {},
   "outputs": [
    {
     "name": "stdout",
     "output_type": "stream",
     "text": [
      "2016-01-12 15:30:00\n"
     ]
    }
   ],
   "source": [
    "# Select the ending period for the training data with an offset of 3 months\n",
    "training_end = X.index.min() + DateOffset(months=3)\n",
    "\n",
    "# Display the training end date\n",
    "print(training_end)"
   ]
  },
  {
   "cell_type": "code",
   "execution_count": 684,
   "metadata": {},
   "outputs": [
    {
     "data": {
      "text/html": [
       "<div>\n",
       "<style scoped>\n",
       "    .dataframe tbody tr th:only-of-type {\n",
       "        vertical-align: middle;\n",
       "    }\n",
       "\n",
       "    .dataframe tbody tr th {\n",
       "        vertical-align: top;\n",
       "    }\n",
       "\n",
       "    .dataframe thead th {\n",
       "        text-align: right;\n",
       "    }\n",
       "</style>\n",
       "<table border=\"1\" class=\"dataframe\">\n",
       "  <thead>\n",
       "    <tr style=\"text-align: right;\">\n",
       "      <th></th>\n",
       "      <th>SMA_Fast</th>\n",
       "      <th>SMA_Slow</th>\n",
       "    </tr>\n",
       "    <tr>\n",
       "      <th>datetime</th>\n",
       "      <th></th>\n",
       "      <th></th>\n",
       "    </tr>\n",
       "  </thead>\n",
       "  <tbody>\n",
       "    <tr>\n",
       "      <th>2015-10-12 15:30:00</th>\n",
       "      <td>22.0475</td>\n",
       "      <td>23.6726</td>\n",
       "    </tr>\n",
       "    <tr>\n",
       "      <th>2015-10-13 15:45:00</th>\n",
       "      <td>22.1900</td>\n",
       "      <td>23.6537</td>\n",
       "    </tr>\n",
       "    <tr>\n",
       "      <th>2015-10-14 12:30:00</th>\n",
       "      <td>22.2975</td>\n",
       "      <td>23.6339</td>\n",
       "    </tr>\n",
       "    <tr>\n",
       "      <th>2015-10-15 11:15:00</th>\n",
       "      <td>22.2875</td>\n",
       "      <td>23.6166</td>\n",
       "    </tr>\n",
       "    <tr>\n",
       "      <th>2015-10-19 15:45:00</th>\n",
       "      <td>22.2325</td>\n",
       "      <td>23.6019</td>\n",
       "    </tr>\n",
       "  </tbody>\n",
       "</table>\n",
       "</div>"
      ],
      "text/plain": [
       "                     SMA_Fast  SMA_Slow\n",
       "datetime                               \n",
       "2015-10-12 15:30:00   22.0475   23.6726\n",
       "2015-10-13 15:45:00   22.1900   23.6537\n",
       "2015-10-14 12:30:00   22.2975   23.6339\n",
       "2015-10-15 11:15:00   22.2875   23.6166\n",
       "2015-10-19 15:45:00   22.2325   23.6019"
      ]
     },
     "execution_count": 684,
     "metadata": {},
     "output_type": "execute_result"
    }
   ],
   "source": [
    "# Generate the X_train and y_train DataFrames\n",
    "X_train = X.loc[training_begin:training_end]\n",
    "y_train = y.loc[training_begin:training_end]\n",
    "\n",
    "# Review the X_train DataFrame\n",
    "X_train.head()"
   ]
  },
  {
   "cell_type": "code",
   "execution_count": 685,
   "metadata": {},
   "outputs": [
    {
     "data": {
      "text/html": [
       "<div>\n",
       "<style scoped>\n",
       "    .dataframe tbody tr th:only-of-type {\n",
       "        vertical-align: middle;\n",
       "    }\n",
       "\n",
       "    .dataframe tbody tr th {\n",
       "        vertical-align: top;\n",
       "    }\n",
       "\n",
       "    .dataframe thead th {\n",
       "        text-align: right;\n",
       "    }\n",
       "</style>\n",
       "<table border=\"1\" class=\"dataframe\">\n",
       "  <thead>\n",
       "    <tr style=\"text-align: right;\">\n",
       "      <th></th>\n",
       "      <th>SMA_Fast</th>\n",
       "      <th>SMA_Slow</th>\n",
       "    </tr>\n",
       "    <tr>\n",
       "      <th>datetime</th>\n",
       "      <th></th>\n",
       "      <th></th>\n",
       "    </tr>\n",
       "  </thead>\n",
       "  <tbody>\n",
       "    <tr>\n",
       "      <th>2016-01-12 15:45:00</th>\n",
       "      <td>18.9000</td>\n",
       "      <td>22.18011</td>\n",
       "    </tr>\n",
       "    <tr>\n",
       "      <th>2016-01-13 14:45:00</th>\n",
       "      <td>18.7275</td>\n",
       "      <td>22.11841</td>\n",
       "    </tr>\n",
       "    <tr>\n",
       "      <th>2016-01-14 15:45:00</th>\n",
       "      <td>18.6625</td>\n",
       "      <td>22.05561</td>\n",
       "    </tr>\n",
       "    <tr>\n",
       "      <th>2016-01-15 15:45:00</th>\n",
       "      <td>18.6625</td>\n",
       "      <td>21.99741</td>\n",
       "    </tr>\n",
       "    <tr>\n",
       "      <th>2016-01-19 15:45:00</th>\n",
       "      <td>18.5275</td>\n",
       "      <td>21.93561</td>\n",
       "    </tr>\n",
       "  </tbody>\n",
       "</table>\n",
       "</div>"
      ],
      "text/plain": [
       "                     SMA_Fast  SMA_Slow\n",
       "datetime                               \n",
       "2016-01-12 15:45:00   18.9000  22.18011\n",
       "2016-01-13 14:45:00   18.7275  22.11841\n",
       "2016-01-14 15:45:00   18.6625  22.05561\n",
       "2016-01-15 15:45:00   18.6625  21.99741\n",
       "2016-01-19 15:45:00   18.5275  21.93561"
      ]
     },
     "execution_count": 685,
     "metadata": {},
     "output_type": "execute_result"
    }
   ],
   "source": [
    "# Generate the X_test and y_test DataFrames\n",
    "X_test = X.loc[training_end:]\n",
    "y_test = y.loc[training_end:]\n",
    "\n",
    "# Review the X_test DataFrame\n",
    "X_test.head()"
   ]
  },
  {
   "cell_type": "code",
   "execution_count": 686,
   "metadata": {},
   "outputs": [],
   "source": [
    "# Scale the features DataFrames\n",
    "\n",
    "# Create a StandardScaler instance\n",
    "scaler = StandardScaler()\n",
    "\n",
    "# Apply the scaler model to fit the X-train data\n",
    "X_scaler = scaler.fit(X_train)\n",
    "\n",
    "# Transform the X_train and X_test DataFrames using the X_scaler\n",
    "X_train_scaled = X_scaler.transform(X_train)\n",
    "X_test_scaled = X_scaler.transform(X_test)"
   ]
  },
  {
   "cell_type": "code",
   "execution_count": 687,
   "metadata": {},
   "outputs": [
    {
     "data": {
      "text/plain": [
       "array([-1., -1., -1., -1., -1., -1., -1., -1., -1., -1., -1., -1., -1.,\n",
       "       -1., -1., -1., -1., -1., -1., -1., -1., -1., -1., -1., -1., -1.,\n",
       "       -1., -1., -1., -1., -1., -1., -1., -1., -1., -1., -1., -1., -1.,\n",
       "       -1.])"
      ]
     },
     "execution_count": 687,
     "metadata": {},
     "output_type": "execute_result"
    }
   ],
   "source": [
    "# From SVM, instantiate SVC classifier model instance\n",
    "svm_model = svm.SVC()\n",
    " \n",
    "# Fit the model to the data using the training data\n",
    "svm_model = svm_model.fit(X_train_scaled, y_train)\n",
    " \n",
    "# Use the training data to make the model predictions\n",
    "svm_pred_training = svm_model.predict(X_train_scaled)\n",
    "\n",
    "# Review the model's predicted values\n",
    "svm_pred_training[:40]\n"
   ]
  },
  {
   "cell_type": "code",
   "execution_count": 688,
   "metadata": {},
   "outputs": [
    {
     "name": "stdout",
     "output_type": "stream",
     "text": [
      "              precision    recall  f1-score   support\n",
      "\n",
      "        -1.0       0.59      1.00      0.74        24\n",
      "         1.0       0.00      0.00      0.00        17\n",
      "\n",
      "    accuracy                           0.59        41\n",
      "   macro avg       0.29      0.50      0.37        41\n",
      "weighted avg       0.34      0.59      0.43        41\n",
      "\n"
     ]
    },
    {
     "name": "stderr",
     "output_type": "stream",
     "text": [
      "/Applications/anaconda3/envs/dev/lib/python3.9/site-packages/sklearn/metrics/_classification.py:1308: UndefinedMetricWarning: Precision and F-score are ill-defined and being set to 0.0 in labels with no predicted samples. Use `zero_division` parameter to control this behavior.\n",
      "  _warn_prf(average, modifier, msg_start, len(result))\n",
      "/Applications/anaconda3/envs/dev/lib/python3.9/site-packages/sklearn/metrics/_classification.py:1308: UndefinedMetricWarning: Precision and F-score are ill-defined and being set to 0.0 in labels with no predicted samples. Use `zero_division` parameter to control this behavior.\n",
      "  _warn_prf(average, modifier, msg_start, len(result))\n",
      "/Applications/anaconda3/envs/dev/lib/python3.9/site-packages/sklearn/metrics/_classification.py:1308: UndefinedMetricWarning: Precision and F-score are ill-defined and being set to 0.0 in labels with no predicted samples. Use `zero_division` parameter to control this behavior.\n",
      "  _warn_prf(average, modifier, msg_start, len(result))\n"
     ]
    }
   ],
   "source": [
    "# Use a classification report to evaluate the model using the predictions and training data\n",
    "svm_training_report = classification_report(y_train, svm_pred_training)\n",
    "\n",
    "# Print the classification report\n",
    "print(svm_training_report)\n"
   ]
  },
  {
   "cell_type": "code",
   "execution_count": 689,
   "metadata": {},
   "outputs": [
    {
     "name": "stdout",
     "output_type": "stream",
     "text": [
      "              precision    recall  f1-score   support\n",
      "\n",
      "        -1.0       0.44      1.00      0.61       403\n",
      "         1.0       0.00      0.00      0.00       514\n",
      "\n",
      "    accuracy                           0.44       917\n",
      "   macro avg       0.22      0.50      0.31       917\n",
      "weighted avg       0.19      0.44      0.27       917\n",
      "\n"
     ]
    },
    {
     "name": "stderr",
     "output_type": "stream",
     "text": [
      "/Applications/anaconda3/envs/dev/lib/python3.9/site-packages/sklearn/metrics/_classification.py:1308: UndefinedMetricWarning: Precision and F-score are ill-defined and being set to 0.0 in labels with no predicted samples. Use `zero_division` parameter to control this behavior.\n",
      "  _warn_prf(average, modifier, msg_start, len(result))\n",
      "/Applications/anaconda3/envs/dev/lib/python3.9/site-packages/sklearn/metrics/_classification.py:1308: UndefinedMetricWarning: Precision and F-score are ill-defined and being set to 0.0 in labels with no predicted samples. Use `zero_division` parameter to control this behavior.\n",
      "  _warn_prf(average, modifier, msg_start, len(result))\n",
      "/Applications/anaconda3/envs/dev/lib/python3.9/site-packages/sklearn/metrics/_classification.py:1308: UndefinedMetricWarning: Precision and F-score are ill-defined and being set to 0.0 in labels with no predicted samples. Use `zero_division` parameter to control this behavior.\n",
      "  _warn_prf(average, modifier, msg_start, len(result))\n"
     ]
    }
   ],
   "source": [
    "# Use the testing data to make the model predictions\n",
    "svm_pred_testing = svm_model.predict(X_test_scaled)\n",
    "\n",
    "# Use a classification report to evaluate the model using the predictions and testing data\n",
    "svm_testing_report = classification_report(y_test, svm_pred_testing)\n",
    "print(svm_testing_report)"
   ]
  },
  {
   "cell_type": "code",
   "execution_count": 690,
   "metadata": {},
   "outputs": [
    {
     "data": {
      "text/html": [
       "<div>\n",
       "<style scoped>\n",
       "    .dataframe tbody tr th:only-of-type {\n",
       "        vertical-align: middle;\n",
       "    }\n",
       "\n",
       "    .dataframe tbody tr th {\n",
       "        vertical-align: top;\n",
       "    }\n",
       "\n",
       "    .dataframe thead th {\n",
       "        text-align: right;\n",
       "    }\n",
       "</style>\n",
       "<table border=\"1\" class=\"dataframe\">\n",
       "  <thead>\n",
       "    <tr style=\"text-align: right;\">\n",
       "      <th></th>\n",
       "      <th>Predicted</th>\n",
       "      <th>Actual Returns</th>\n",
       "      <th>Strategy Returns</th>\n",
       "    </tr>\n",
       "    <tr>\n",
       "      <th>datetime</th>\n",
       "      <th></th>\n",
       "      <th></th>\n",
       "      <th></th>\n",
       "    </tr>\n",
       "  </thead>\n",
       "  <tbody>\n",
       "    <tr>\n",
       "      <th>2016-01-12 15:45:00</th>\n",
       "      <td>-1.0</td>\n",
       "      <td>0.002139</td>\n",
       "      <td>-0.002139</td>\n",
       "    </tr>\n",
       "    <tr>\n",
       "      <th>2016-01-13 14:45:00</th>\n",
       "      <td>-1.0</td>\n",
       "      <td>-0.011740</td>\n",
       "      <td>0.011740</td>\n",
       "    </tr>\n",
       "    <tr>\n",
       "      <th>2016-01-14 15:45:00</th>\n",
       "      <td>-1.0</td>\n",
       "      <td>0.009179</td>\n",
       "      <td>-0.009179</td>\n",
       "    </tr>\n",
       "    <tr>\n",
       "      <th>2016-01-15 15:45:00</th>\n",
       "      <td>-1.0</td>\n",
       "      <td>-0.028357</td>\n",
       "      <td>0.028357</td>\n",
       "    </tr>\n",
       "    <tr>\n",
       "      <th>2016-01-19 15:45:00</th>\n",
       "      <td>-1.0</td>\n",
       "      <td>0.011564</td>\n",
       "      <td>-0.011564</td>\n",
       "    </tr>\n",
       "  </tbody>\n",
       "</table>\n",
       "</div>"
      ],
      "text/plain": [
       "                     Predicted  Actual Returns  Strategy Returns\n",
       "datetime                                                        \n",
       "2016-01-12 15:45:00       -1.0        0.002139         -0.002139\n",
       "2016-01-13 14:45:00       -1.0       -0.011740          0.011740\n",
       "2016-01-14 15:45:00       -1.0        0.009179         -0.009179\n",
       "2016-01-15 15:45:00       -1.0       -0.028357          0.028357\n",
       "2016-01-19 15:45:00       -1.0        0.011564         -0.011564"
      ]
     },
     "metadata": {},
     "output_type": "display_data"
    },
    {
     "data": {
      "text/html": [
       "<div>\n",
       "<style scoped>\n",
       "    .dataframe tbody tr th:only-of-type {\n",
       "        vertical-align: middle;\n",
       "    }\n",
       "\n",
       "    .dataframe tbody tr th {\n",
       "        vertical-align: top;\n",
       "    }\n",
       "\n",
       "    .dataframe thead th {\n",
       "        text-align: right;\n",
       "    }\n",
       "</style>\n",
       "<table border=\"1\" class=\"dataframe\">\n",
       "  <thead>\n",
       "    <tr style=\"text-align: right;\">\n",
       "      <th></th>\n",
       "      <th>Predicted</th>\n",
       "      <th>Actual Returns</th>\n",
       "      <th>Strategy Returns</th>\n",
       "    </tr>\n",
       "    <tr>\n",
       "      <th>datetime</th>\n",
       "      <th></th>\n",
       "      <th></th>\n",
       "      <th></th>\n",
       "    </tr>\n",
       "  </thead>\n",
       "  <tbody>\n",
       "    <tr>\n",
       "      <th>2021-01-13 13:15:00</th>\n",
       "      <td>-1.0</td>\n",
       "      <td>0.002149</td>\n",
       "      <td>-0.002149</td>\n",
       "    </tr>\n",
       "    <tr>\n",
       "      <th>2021-01-14 15:45:00</th>\n",
       "      <td>-1.0</td>\n",
       "      <td>0.006126</td>\n",
       "      <td>-0.006126</td>\n",
       "    </tr>\n",
       "    <tr>\n",
       "      <th>2021-01-19 12:30:00</th>\n",
       "      <td>-1.0</td>\n",
       "      <td>0.003653</td>\n",
       "      <td>-0.003653</td>\n",
       "    </tr>\n",
       "    <tr>\n",
       "      <th>2021-01-20 09:45:00</th>\n",
       "      <td>-1.0</td>\n",
       "      <td>0.016075</td>\n",
       "      <td>-0.016075</td>\n",
       "    </tr>\n",
       "    <tr>\n",
       "      <th>2021-01-22 15:45:00</th>\n",
       "      <td>-1.0</td>\n",
       "      <td>-0.001791</td>\n",
       "      <td>0.001791</td>\n",
       "    </tr>\n",
       "  </tbody>\n",
       "</table>\n",
       "</div>"
      ],
      "text/plain": [
       "                     Predicted  Actual Returns  Strategy Returns\n",
       "datetime                                                        \n",
       "2021-01-13 13:15:00       -1.0        0.002149         -0.002149\n",
       "2021-01-14 15:45:00       -1.0        0.006126         -0.006126\n",
       "2021-01-19 12:30:00       -1.0        0.003653         -0.003653\n",
       "2021-01-20 09:45:00       -1.0        0.016075         -0.016075\n",
       "2021-01-22 15:45:00       -1.0       -0.001791          0.001791"
      ]
     },
     "metadata": {},
     "output_type": "display_data"
    }
   ],
   "source": [
    "# Create a predictions DataFrame\n",
    "predictions_df = pd.DataFrame(index = X_test.index)\n",
    "\n",
    "# Add the SVM model predictions to the DataFrame\n",
    "predictions_df['Predicted'] = svm_pred_testing\n",
    "\n",
    "# Add the actual returns to the DataFrame\n",
    "predictions_df['Actual Returns'] = signals_df['Actual Returns']\n",
    "\n",
    "# Add the strategy returns to the DataFrame\n",
    "predictions_df['Strategy Returns'] = (\n",
    "    predictions_df['Actual Returns'] * predictions_df['Predicted']\n",
    ")\n",
    "\n",
    "# Review the DataFrame\n",
    "display(predictions_df.head())\n",
    "display(predictions_df.tail())"
   ]
  },
  {
   "cell_type": "code",
   "execution_count": 691,
   "metadata": {},
   "outputs": [
    {
     "data": {
      "text/plain": [
       "<AxesSubplot:xlabel='datetime'>"
      ]
     },
     "execution_count": 691,
     "metadata": {},
     "output_type": "execute_result"
    },
    {
     "data": {
      "image/png": "[encoded data removed]",
      "text/plain": [
       "<Figure size 432x288 with 1 Axes>"
      ]
     },
     "metadata": {
      "needs_background": "light"
     },
     "output_type": "display_data"
    }
   ],
   "source": [
    "# Plot the actual returns versus the strategy returns\n",
    "(1 + predictions_df[['Actual Returns', 'Strategy Returns']]).cumprod().plot()\n"
   ]
  },
  {
   "cell_type": "code",
   "execution_count": 692,
   "metadata": {},
   "outputs": [
    {
     "name": "stdout",
     "output_type": "stream",
     "text": [
      "2016-04-12 15:30:00\n"
     ]
    }
   ],
   "source": [
    "# Tune the training algorithm by extending training period to 6 months\n",
    "training_end = X.index.min() + DateOffset(months=6)\n",
    "print(training_end)"
   ]
  },
  {
   "cell_type": "code",
   "execution_count": 693,
   "metadata": {},
   "outputs": [],
   "source": [
    "# Generate new X_train1 and y_train1 DataFrames\n",
    "X_train1 = X.loc[training_begin:training_end]\n",
    "y_train1 = y.loc[training_begin:training_end]"
   ]
  },
  {
   "cell_type": "code",
   "execution_count": 694,
   "metadata": {},
   "outputs": [
    {
     "data": {
      "text/html": [
       "<div>\n",
       "<style scoped>\n",
       "    .dataframe tbody tr th:only-of-type {\n",
       "        vertical-align: middle;\n",
       "    }\n",
       "\n",
       "    .dataframe tbody tr th {\n",
       "        vertical-align: top;\n",
       "    }\n",
       "\n",
       "    .dataframe thead th {\n",
       "        text-align: right;\n",
       "    }\n",
       "</style>\n",
       "<table border=\"1\" class=\"dataframe\">\n",
       "  <thead>\n",
       "    <tr style=\"text-align: right;\">\n",
       "      <th></th>\n",
       "      <th>SMA_Fast</th>\n",
       "      <th>SMA_Slow</th>\n",
       "    </tr>\n",
       "    <tr>\n",
       "      <th>datetime</th>\n",
       "      <th></th>\n",
       "      <th></th>\n",
       "    </tr>\n",
       "  </thead>\n",
       "  <tbody>\n",
       "    <tr>\n",
       "      <th>2016-04-13 15:45:00</th>\n",
       "      <td>20.47225</td>\n",
       "      <td>20.2709</td>\n",
       "    </tr>\n",
       "    <tr>\n",
       "      <th>2016-04-14 15:45:00</th>\n",
       "      <td>20.57725</td>\n",
       "      <td>20.2775</td>\n",
       "    </tr>\n",
       "    <tr>\n",
       "      <th>2016-04-15 15:15:00</th>\n",
       "      <td>20.74475</td>\n",
       "      <td>20.2791</td>\n",
       "    </tr>\n",
       "    <tr>\n",
       "      <th>2016-04-18 15:30:00</th>\n",
       "      <td>20.81750</td>\n",
       "      <td>20.2741</td>\n",
       "    </tr>\n",
       "    <tr>\n",
       "      <th>2016-07-11 13:00:00</th>\n",
       "      <td>21.01500</td>\n",
       "      <td>20.2668</td>\n",
       "    </tr>\n",
       "  </tbody>\n",
       "</table>\n",
       "</div>"
      ],
      "text/plain": [
       "                     SMA_Fast  SMA_Slow\n",
       "datetime                               \n",
       "2016-04-13 15:45:00  20.47225   20.2709\n",
       "2016-04-14 15:45:00  20.57725   20.2775\n",
       "2016-04-15 15:15:00  20.74475   20.2791\n",
       "2016-04-18 15:30:00  20.81750   20.2741\n",
       "2016-07-11 13:00:00  21.01500   20.2668"
      ]
     },
     "execution_count": 694,
     "metadata": {},
     "output_type": "execute_result"
    }
   ],
   "source": [
    "# Generate new X_test1 and y_test1 DataFrames\n",
    "X_test1 = X.loc[training_end:]\n",
    "y_test1 = y.loc[training_end:]\n",
    "X_test1.head()"
   ]
  },
  {
   "cell_type": "code",
   "execution_count": 695,
   "metadata": {},
   "outputs": [],
   "source": [
    "# Create a StandardScaler instance\n",
    "scaler = StandardScaler()\n",
    "\n",
    "# Apply the scaler model to fit the X-train1 data\n",
    "X_scaler = scaler.fit(X_train1)\n",
    "\n",
    "# Transform the X_train1 and X_test1 DataFrames using the X_scaler\n",
    "X_train1_scaled = X_scaler.transform(X_train1)\n",
    "X_test1_scaled = X_scaler.transform(X_test1)"
   ]
  },
  {
   "cell_type": "code",
   "execution_count": 696,
   "metadata": {},
   "outputs": [
    {
     "data": {
      "text/plain": [
       "array([-1., -1., -1., -1., -1., -1., -1., -1., -1., -1., -1., -1., -1.,\n",
       "       -1., -1., -1., -1., -1., -1., -1., -1., -1., -1., -1., -1., -1.,\n",
       "       -1., -1., -1., -1., -1., -1., -1., -1., -1., -1., -1., -1., -1.,\n",
       "        1.,  1.,  1.,  1.,  1.,  1.,  1.,  1.,  1.,  1.,  1.,  1.,  1.,\n",
       "        1.,  1.,  1.,  1.,  1.,  1.,  1.,  1.,  1.,  1.,  1.,  1.,  1.,\n",
       "        1.,  1.,  1.,  1.,  1.,  1.,  1.,  1.,  1.,  1.,  1.,  1.,  1.,\n",
       "        1.,  1.,  1.,  1.,  1.,  1.,  1.,  1.,  1.,  1.,  1.,  1.,  1.,\n",
       "        1.,  1.])"
      ]
     },
     "execution_count": 696,
     "metadata": {},
     "output_type": "execute_result"
    }
   ],
   "source": [
    "# From SVM, instantiate SVC classifier model instance\n",
    "svm1_model = svm.SVC()\n",
    "\n",
    "# Fit the model to the data using the training data\n",
    "svm1_model = svm1_model.fit(X_train1_scaled, y_train1)\n",
    "\n",
    "# Use the training data to make the model predictions\n",
    "svm1_pred_training = svm1_model.predict(X_train1_scaled)\n",
    "svm1_pred_training"
   ]
  },
  {
   "cell_type": "code",
   "execution_count": 697,
   "metadata": {},
   "outputs": [
    {
     "name": "stdout",
     "output_type": "stream",
     "text": [
      "              precision    recall  f1-score   support\n",
      "\n",
      "        -1.0       0.59      0.50      0.54        46\n",
      "         1.0       0.57      0.66      0.61        47\n",
      "\n",
      "    accuracy                           0.58        93\n",
      "   macro avg       0.58      0.58      0.58        93\n",
      "weighted avg       0.58      0.58      0.58        93\n",
      "\n"
     ]
    }
   ],
   "source": [
    "# Use a classification report to evaluate the model using the predictions and training data\n",
    "svm1_training_report = classification_report(y_train1, svm1_pred_training)\n",
    "print(svm1_training_report)"
   ]
  },
  {
   "cell_type": "code",
   "execution_count": 698,
   "metadata": {},
   "outputs": [
    {
     "name": "stdout",
     "output_type": "stream",
     "text": [
      "              precision    recall  f1-score   support\n",
      "\n",
      "        -1.0       0.43      0.62      0.51       381\n",
      "         1.0       0.55      0.36      0.43       484\n",
      "\n",
      "    accuracy                           0.48       865\n",
      "   macro avg       0.49      0.49      0.47       865\n",
      "weighted avg       0.50      0.48      0.47       865\n",
      "\n"
     ]
    }
   ],
   "source": [
    "# Use the testing data to make the model predictions\n",
    "svm1_pred_testing = svm1_model.predict(X_test1_scaled)\n",
    "\n",
    "# Use a classification report to evaluate the model using the predictions and testing data\n",
    "svm1_testing_report = classification_report(y_test1, svm1_pred_testing)\n",
    "print(svm1_testing_report)"
   ]
  },
  {
   "cell_type": "code",
   "execution_count": 699,
   "metadata": {},
   "outputs": [
    {
     "data": {
      "text/html": [
       "<div>\n",
       "<style scoped>\n",
       "    .dataframe tbody tr th:only-of-type {\n",
       "        vertical-align: middle;\n",
       "    }\n",
       "\n",
       "    .dataframe tbody tr th {\n",
       "        vertical-align: top;\n",
       "    }\n",
       "\n",
       "    .dataframe thead th {\n",
       "        text-align: right;\n",
       "    }\n",
       "</style>\n",
       "<table border=\"1\" class=\"dataframe\">\n",
       "  <thead>\n",
       "    <tr style=\"text-align: right;\">\n",
       "      <th></th>\n",
       "      <th>Predicted</th>\n",
       "      <th>Actual Returns</th>\n",
       "      <th>Strategy Returns</th>\n",
       "    </tr>\n",
       "    <tr>\n",
       "      <th>datetime</th>\n",
       "      <th></th>\n",
       "      <th></th>\n",
       "      <th></th>\n",
       "    </tr>\n",
       "  </thead>\n",
       "  <tbody>\n",
       "    <tr>\n",
       "      <th>2016-04-13 15:45:00</th>\n",
       "      <td>1.0</td>\n",
       "      <td>0.041461</td>\n",
       "      <td>0.041461</td>\n",
       "    </tr>\n",
       "    <tr>\n",
       "      <th>2016-04-14 15:45:00</th>\n",
       "      <td>1.0</td>\n",
       "      <td>-0.005687</td>\n",
       "      <td>-0.005687</td>\n",
       "    </tr>\n",
       "    <tr>\n",
       "      <th>2016-04-15 15:15:00</th>\n",
       "      <td>1.0</td>\n",
       "      <td>-0.002383</td>\n",
       "      <td>-0.002383</td>\n",
       "    </tr>\n",
       "    <tr>\n",
       "      <th>2016-04-18 15:30:00</th>\n",
       "      <td>1.0</td>\n",
       "      <td>0.005733</td>\n",
       "      <td>0.005733</td>\n",
       "    </tr>\n",
       "    <tr>\n",
       "      <th>2016-07-11 13:00:00</th>\n",
       "      <td>1.0</td>\n",
       "      <td>-0.002850</td>\n",
       "      <td>-0.002850</td>\n",
       "    </tr>\n",
       "  </tbody>\n",
       "</table>\n",
       "</div>"
      ],
      "text/plain": [
       "                     Predicted  Actual Returns  Strategy Returns\n",
       "datetime                                                        \n",
       "2016-04-13 15:45:00        1.0        0.041461          0.041461\n",
       "2016-04-14 15:45:00        1.0       -0.005687         -0.005687\n",
       "2016-04-15 15:15:00        1.0       -0.002383         -0.002383\n",
       "2016-04-18 15:30:00        1.0        0.005733          0.005733\n",
       "2016-07-11 13:00:00        1.0       -0.002850         -0.002850"
      ]
     },
     "metadata": {},
     "output_type": "display_data"
    },
    {
     "data": {
      "text/html": [
       "<div>\n",
       "<style scoped>\n",
       "    .dataframe tbody tr th:only-of-type {\n",
       "        vertical-align: middle;\n",
       "    }\n",
       "\n",
       "    .dataframe tbody tr th {\n",
       "        vertical-align: top;\n",
       "    }\n",
       "\n",
       "    .dataframe thead th {\n",
       "        text-align: right;\n",
       "    }\n",
       "</style>\n",
       "<table border=\"1\" class=\"dataframe\">\n",
       "  <thead>\n",
       "    <tr style=\"text-align: right;\">\n",
       "      <th></th>\n",
       "      <th>Predicted</th>\n",
       "      <th>Actual Returns</th>\n",
       "      <th>Strategy Returns</th>\n",
       "    </tr>\n",
       "    <tr>\n",
       "      <th>datetime</th>\n",
       "      <th></th>\n",
       "      <th></th>\n",
       "      <th></th>\n",
       "    </tr>\n",
       "  </thead>\n",
       "  <tbody>\n",
       "    <tr>\n",
       "      <th>2021-01-13 13:15:00</th>\n",
       "      <td>1.0</td>\n",
       "      <td>0.002149</td>\n",
       "      <td>0.002149</td>\n",
       "    </tr>\n",
       "    <tr>\n",
       "      <th>2021-01-14 15:45:00</th>\n",
       "      <td>1.0</td>\n",
       "      <td>0.006126</td>\n",
       "      <td>0.006126</td>\n",
       "    </tr>\n",
       "    <tr>\n",
       "      <th>2021-01-19 12:30:00</th>\n",
       "      <td>1.0</td>\n",
       "      <td>0.003653</td>\n",
       "      <td>0.003653</td>\n",
       "    </tr>\n",
       "    <tr>\n",
       "      <th>2021-01-20 09:45:00</th>\n",
       "      <td>1.0</td>\n",
       "      <td>0.016075</td>\n",
       "      <td>0.016075</td>\n",
       "    </tr>\n",
       "    <tr>\n",
       "      <th>2021-01-22 15:45:00</th>\n",
       "      <td>1.0</td>\n",
       "      <td>-0.001791</td>\n",
       "      <td>-0.001791</td>\n",
       "    </tr>\n",
       "  </tbody>\n",
       "</table>\n",
       "</div>"
      ],
      "text/plain": [
       "                     Predicted  Actual Returns  Strategy Returns\n",
       "datetime                                                        \n",
       "2021-01-13 13:15:00        1.0        0.002149          0.002149\n",
       "2021-01-14 15:45:00        1.0        0.006126          0.006126\n",
       "2021-01-19 12:30:00        1.0        0.003653          0.003653\n",
       "2021-01-20 09:45:00        1.0        0.016075          0.016075\n",
       "2021-01-22 15:45:00        1.0       -0.001791         -0.001791"
      ]
     },
     "metadata": {},
     "output_type": "display_data"
    }
   ],
   "source": [
    "# Create a predictions DataFrame\n",
    "predictions1_df = pd.DataFrame(index=X_test1.index)\n",
    "\n",
    "# Add the SVM model predictions to the DataFrame\n",
    "predictions1_df['Predicted'] = svm1_pred_testing\n",
    "\n",
    "# Add the actual returns to the DataFrame\n",
    "predictions1_df['Actual Returns'] = signals1_df['Actual Returns']\n",
    "\n",
    "# Add the strategy returns to the DataFrame\n",
    "predictions1_df['Strategy Returns'] = (\n",
    "    predictions1_df['Actual Returns'] * predictions2_df['Predicted']\n",
    ")\n",
    "display(predictions1_df.head())\n",
    "display(predictions1_df.tail())"
   ]
  },
  {
   "cell_type": "code",
   "execution_count": 700,
   "metadata": {},
   "outputs": [
    {
     "data": {
      "text/plain": [
       "<AxesSubplot:xlabel='datetime'>"
      ]
     },
     "execution_count": 700,
     "metadata": {},
     "output_type": "execute_result"
    },
    {
     "data": {
      "image/png": "[encoded data removed]",
      "text/plain": [
       "<Figure size 432x288 with 1 Axes>"
      ]
     },
     "metadata": {
      "needs_background": "light"
     },
     "output_type": "display_data"
    }
   ],
   "source": [
    "# Plot the actual returns versus the strategy returns\n",
    "(1 + predictions1_df[['Actual Returns', 'Strategy Returns']]).cumprod().plot()"
   ]
  },
  {
   "cell_type": "code",
   "execution_count": 701,
   "metadata": {},
   "outputs": [
    {
     "data": {
      "text/html": [
       "<div>\n",
       "<style scoped>\n",
       "    .dataframe tbody tr th:only-of-type {\n",
       "        vertical-align: middle;\n",
       "    }\n",
       "\n",
       "    .dataframe tbody tr th {\n",
       "        vertical-align: top;\n",
       "    }\n",
       "\n",
       "    .dataframe thead th {\n",
       "        text-align: right;\n",
       "    }\n",
       "</style>\n",
       "<table border=\"1\" class=\"dataframe\">\n",
       "  <thead>\n",
       "    <tr style=\"text-align: right;\">\n",
       "      <th></th>\n",
       "      <th>close</th>\n",
       "      <th>Actual Returns</th>\n",
       "      <th>SMA2_Fast</th>\n",
       "      <th>SMA_Slow</th>\n",
       "    </tr>\n",
       "    <tr>\n",
       "      <th>datetime</th>\n",
       "      <th></th>\n",
       "      <th></th>\n",
       "      <th></th>\n",
       "      <th></th>\n",
       "    </tr>\n",
       "  </thead>\n",
       "  <tbody>\n",
       "    <tr>\n",
       "      <th>2015-10-07 15:45:00</th>\n",
       "      <td>22.20</td>\n",
       "      <td>0.022570</td>\n",
       "      <td>21.45875</td>\n",
       "      <td>23.6922</td>\n",
       "    </tr>\n",
       "    <tr>\n",
       "      <th>2015-10-08 15:45:00</th>\n",
       "      <td>22.50</td>\n",
       "      <td>0.013514</td>\n",
       "      <td>21.58250</td>\n",
       "      <td>23.6726</td>\n",
       "    </tr>\n",
       "    <tr>\n",
       "      <th>2015-10-12 15:30:00</th>\n",
       "      <td>22.35</td>\n",
       "      <td>-0.006667</td>\n",
       "      <td>21.65375</td>\n",
       "      <td>23.6537</td>\n",
       "    </tr>\n",
       "    <tr>\n",
       "      <th>2015-10-13 15:45:00</th>\n",
       "      <td>22.14</td>\n",
       "      <td>-0.009396</td>\n",
       "      <td>21.86625</td>\n",
       "      <td>23.6339</td>\n",
       "    </tr>\n",
       "    <tr>\n",
       "      <th>2015-10-14 12:30:00</th>\n",
       "      <td>22.16</td>\n",
       "      <td>0.000903</td>\n",
       "      <td>22.03375</td>\n",
       "      <td>23.6166</td>\n",
       "    </tr>\n",
       "  </tbody>\n",
       "</table>\n",
       "</div>"
      ],
      "text/plain": [
       "                     close  Actual Returns  SMA2_Fast  SMA_Slow\n",
       "datetime                                                       \n",
       "2015-10-07 15:45:00  22.20        0.022570   21.45875   23.6922\n",
       "2015-10-08 15:45:00  22.50        0.013514   21.58250   23.6726\n",
       "2015-10-12 15:30:00  22.35       -0.006667   21.65375   23.6537\n",
       "2015-10-13 15:45:00  22.14       -0.009396   21.86625   23.6339\n",
       "2015-10-14 12:30:00  22.16        0.000903   22.03375   23.6166"
      ]
     },
     "metadata": {},
     "output_type": "display_data"
    },
    {
     "data": {
      "text/html": [
       "<div>\n",
       "<style scoped>\n",
       "    .dataframe tbody tr th:only-of-type {\n",
       "        vertical-align: middle;\n",
       "    }\n",
       "\n",
       "    .dataframe tbody tr th {\n",
       "        vertical-align: top;\n",
       "    }\n",
       "\n",
       "    .dataframe thead th {\n",
       "        text-align: right;\n",
       "    }\n",
       "</style>\n",
       "<table border=\"1\" class=\"dataframe\">\n",
       "  <thead>\n",
       "    <tr style=\"text-align: right;\">\n",
       "      <th></th>\n",
       "      <th>close</th>\n",
       "      <th>Actual Returns</th>\n",
       "      <th>SMA2_Fast</th>\n",
       "      <th>SMA_Slow</th>\n",
       "    </tr>\n",
       "    <tr>\n",
       "      <th>datetime</th>\n",
       "      <th></th>\n",
       "      <th></th>\n",
       "      <th></th>\n",
       "      <th></th>\n",
       "    </tr>\n",
       "  </thead>\n",
       "  <tbody>\n",
       "    <tr>\n",
       "      <th>2021-01-13 13:15:00</th>\n",
       "      <td>32.65</td>\n",
       "      <td>0.002149</td>\n",
       "      <td>31.78500</td>\n",
       "      <td>27.6881</td>\n",
       "    </tr>\n",
       "    <tr>\n",
       "      <th>2021-01-14 15:45:00</th>\n",
       "      <td>32.85</td>\n",
       "      <td>0.006126</td>\n",
       "      <td>32.04125</td>\n",
       "      <td>27.7881</td>\n",
       "    </tr>\n",
       "    <tr>\n",
       "      <th>2021-01-19 12:30:00</th>\n",
       "      <td>32.97</td>\n",
       "      <td>0.003653</td>\n",
       "      <td>32.28000</td>\n",
       "      <td>27.8833</td>\n",
       "    </tr>\n",
       "    <tr>\n",
       "      <th>2021-01-20 09:45:00</th>\n",
       "      <td>33.50</td>\n",
       "      <td>0.016075</td>\n",
       "      <td>32.52875</td>\n",
       "      <td>27.9855</td>\n",
       "    </tr>\n",
       "    <tr>\n",
       "      <th>2021-01-22 15:45:00</th>\n",
       "      <td>33.44</td>\n",
       "      <td>-0.001791</td>\n",
       "      <td>32.75500</td>\n",
       "      <td>28.0855</td>\n",
       "    </tr>\n",
       "  </tbody>\n",
       "</table>\n",
       "</div>"
      ],
      "text/plain": [
       "                     close  Actual Returns  SMA2_Fast  SMA_Slow\n",
       "datetime                                                       \n",
       "2021-01-13 13:15:00  32.65        0.002149   31.78500   27.6881\n",
       "2021-01-14 15:45:00  32.85        0.006126   32.04125   27.7881\n",
       "2021-01-19 12:30:00  32.97        0.003653   32.28000   27.8833\n",
       "2021-01-20 09:45:00  33.50        0.016075   32.52875   27.9855\n",
       "2021-01-22 15:45:00  33.44       -0.001791   32.75500   28.0855"
      ]
     },
     "metadata": {},
     "output_type": "display_data"
    }
   ],
   "source": [
    "# Tune the training algorithm by extending short SMA window to 8 days\n",
    "short2_window = 8\n",
    "long_window = 100\n",
    "\n",
    "# Generate the fast and slow simple moving averages (8 and 100 days, respectively) in new signals2 dataframe\n",
    "signals2_df = signals_df.copy()\n",
    "signals2_df['SMA2_Fast'] = signals2_df['close'].rolling(window=short2_window).mean()\n",
    "signals2_df['SMA_Slow'] = signals2_df['close'].rolling(window=long_window).mean()\n",
    "signals2_df = signals2_df.dropna()\n",
    "display(signals2_df.head())\n",
    "display(signals2_df.tail())"
   ]
  },
  {
   "cell_type": "code",
   "execution_count": 702,
   "metadata": {},
   "outputs": [
    {
     "data": {
      "text/html": [
       "<div>\n",
       "<style scoped>\n",
       "    .dataframe tbody tr th:only-of-type {\n",
       "        vertical-align: middle;\n",
       "    }\n",
       "\n",
       "    .dataframe tbody tr th {\n",
       "        vertical-align: top;\n",
       "    }\n",
       "\n",
       "    .dataframe thead th {\n",
       "        text-align: right;\n",
       "    }\n",
       "</style>\n",
       "<table border=\"1\" class=\"dataframe\">\n",
       "  <thead>\n",
       "    <tr style=\"text-align: right;\">\n",
       "      <th></th>\n",
       "      <th>SMA2_Fast</th>\n",
       "      <th>SMA_Slow</th>\n",
       "    </tr>\n",
       "    <tr>\n",
       "      <th>datetime</th>\n",
       "      <th></th>\n",
       "      <th></th>\n",
       "    </tr>\n",
       "  </thead>\n",
       "  <tbody>\n",
       "    <tr>\n",
       "      <th>2015-10-08 15:45:00</th>\n",
       "      <td>21.45875</td>\n",
       "      <td>23.6922</td>\n",
       "    </tr>\n",
       "    <tr>\n",
       "      <th>2015-10-12 15:30:00</th>\n",
       "      <td>21.58250</td>\n",
       "      <td>23.6726</td>\n",
       "    </tr>\n",
       "    <tr>\n",
       "      <th>2015-10-13 15:45:00</th>\n",
       "      <td>21.65375</td>\n",
       "      <td>23.6537</td>\n",
       "    </tr>\n",
       "    <tr>\n",
       "      <th>2015-10-14 12:30:00</th>\n",
       "      <td>21.86625</td>\n",
       "      <td>23.6339</td>\n",
       "    </tr>\n",
       "    <tr>\n",
       "      <th>2015-10-15 11:15:00</th>\n",
       "      <td>22.03375</td>\n",
       "      <td>23.6166</td>\n",
       "    </tr>\n",
       "  </tbody>\n",
       "</table>\n",
       "</div>"
      ],
      "text/plain": [
       "                     SMA2_Fast  SMA_Slow\n",
       "datetime                                \n",
       "2015-10-08 15:45:00   21.45875   23.6922\n",
       "2015-10-12 15:30:00   21.58250   23.6726\n",
       "2015-10-13 15:45:00   21.65375   23.6537\n",
       "2015-10-14 12:30:00   21.86625   23.6339\n",
       "2015-10-15 11:15:00   22.03375   23.6166"
      ]
     },
     "execution_count": 702,
     "metadata": {},
     "output_type": "execute_result"
    }
   ],
   "source": [
    "# Assign a copy of the sma2_fast and sma_slow columns to a features DataFrame called X\n",
    "X = signals2_df[['SMA2_Fast', 'SMA_Slow']].shift().dropna()\n",
    "X.head()"
   ]
  },
  {
   "cell_type": "code",
   "execution_count": 703,
   "metadata": {},
   "outputs": [
    {
     "name": "stdout",
     "output_type": "stream",
     "text": [
      "2015-10-08 15:45:00\n"
     ]
    }
   ],
   "source": [
    "# Select the start of the training period\n",
    "training_begin = X.index.min()\n",
    "print(training_begin)"
   ]
  },
  {
   "cell_type": "code",
   "execution_count": 704,
   "metadata": {},
   "outputs": [
    {
     "name": "stdout",
     "output_type": "stream",
     "text": [
      "2016-01-08 15:45:00\n"
     ]
    }
   ],
   "source": [
    "# Select the ending period for the training data with an offset of 3 months\n",
    "training_end = X.index.min() + DateOffset(months=3)\n",
    "print(training_end)"
   ]
  },
  {
   "cell_type": "code",
   "execution_count": 705,
   "metadata": {},
   "outputs": [
    {
     "data": {
      "text/html": [
       "<div>\n",
       "<style scoped>\n",
       "    .dataframe tbody tr th:only-of-type {\n",
       "        vertical-align: middle;\n",
       "    }\n",
       "\n",
       "    .dataframe tbody tr th {\n",
       "        vertical-align: top;\n",
       "    }\n",
       "\n",
       "    .dataframe thead th {\n",
       "        text-align: right;\n",
       "    }\n",
       "</style>\n",
       "<table border=\"1\" class=\"dataframe\">\n",
       "  <thead>\n",
       "    <tr style=\"text-align: right;\">\n",
       "      <th></th>\n",
       "      <th>SMA2_Fast</th>\n",
       "      <th>SMA_Slow</th>\n",
       "    </tr>\n",
       "    <tr>\n",
       "      <th>datetime</th>\n",
       "      <th></th>\n",
       "      <th></th>\n",
       "    </tr>\n",
       "  </thead>\n",
       "  <tbody>\n",
       "    <tr>\n",
       "      <th>2015-10-08 15:45:00</th>\n",
       "      <td>21.45875</td>\n",
       "      <td>23.6922</td>\n",
       "    </tr>\n",
       "    <tr>\n",
       "      <th>2015-10-12 15:30:00</th>\n",
       "      <td>21.58250</td>\n",
       "      <td>23.6726</td>\n",
       "    </tr>\n",
       "    <tr>\n",
       "      <th>2015-10-13 15:45:00</th>\n",
       "      <td>21.65375</td>\n",
       "      <td>23.6537</td>\n",
       "    </tr>\n",
       "    <tr>\n",
       "      <th>2015-10-14 12:30:00</th>\n",
       "      <td>21.86625</td>\n",
       "      <td>23.6339</td>\n",
       "    </tr>\n",
       "    <tr>\n",
       "      <th>2015-10-15 11:15:00</th>\n",
       "      <td>22.03375</td>\n",
       "      <td>23.6166</td>\n",
       "    </tr>\n",
       "  </tbody>\n",
       "</table>\n",
       "</div>"
      ],
      "text/plain": [
       "                     SMA2_Fast  SMA_Slow\n",
       "datetime                                \n",
       "2015-10-08 15:45:00   21.45875   23.6922\n",
       "2015-10-12 15:30:00   21.58250   23.6726\n",
       "2015-10-13 15:45:00   21.65375   23.6537\n",
       "2015-10-14 12:30:00   21.86625   23.6339\n",
       "2015-10-15 11:15:00   22.03375   23.6166"
      ]
     },
     "execution_count": 705,
     "metadata": {},
     "output_type": "execute_result"
    }
   ],
   "source": [
    "# Generate new X_train2 and y_train DataFrames\n",
    "X_train2 = X.loc[training_begin:training_end]\n",
    "y_train = y.loc[training_begin:training_end]\n",
    "\n",
    "# Review the X_train DataFrame\n",
    "X_train2.head()"
   ]
  },
  {
   "cell_type": "code",
   "execution_count": 706,
   "metadata": {},
   "outputs": [
    {
     "data": {
      "text/html": [
       "<div>\n",
       "<style scoped>\n",
       "    .dataframe tbody tr th:only-of-type {\n",
       "        vertical-align: middle;\n",
       "    }\n",
       "\n",
       "    .dataframe tbody tr th {\n",
       "        vertical-align: top;\n",
       "    }\n",
       "\n",
       "    .dataframe thead th {\n",
       "        text-align: right;\n",
       "    }\n",
       "</style>\n",
       "<table border=\"1\" class=\"dataframe\">\n",
       "  <thead>\n",
       "    <tr style=\"text-align: right;\">\n",
       "      <th></th>\n",
       "      <th>SMA2_Fast</th>\n",
       "      <th>SMA_Slow</th>\n",
       "    </tr>\n",
       "    <tr>\n",
       "      <th>datetime</th>\n",
       "      <th></th>\n",
       "      <th></th>\n",
       "    </tr>\n",
       "  </thead>\n",
       "  <tbody>\n",
       "    <tr>\n",
       "      <th>2016-01-08 15:45:00</th>\n",
       "      <td>19.93750</td>\n",
       "      <td>22.32301</td>\n",
       "    </tr>\n",
       "    <tr>\n",
       "      <th>2016-01-11 15:45:00</th>\n",
       "      <td>19.67750</td>\n",
       "      <td>22.24861</td>\n",
       "    </tr>\n",
       "    <tr>\n",
       "      <th>2016-01-12 15:45:00</th>\n",
       "      <td>19.42500</td>\n",
       "      <td>22.18011</td>\n",
       "    </tr>\n",
       "    <tr>\n",
       "      <th>2016-01-13 14:45:00</th>\n",
       "      <td>19.21875</td>\n",
       "      <td>22.11841</td>\n",
       "    </tr>\n",
       "    <tr>\n",
       "      <th>2016-01-14 15:45:00</th>\n",
       "      <td>18.99500</td>\n",
       "      <td>22.05561</td>\n",
       "    </tr>\n",
       "  </tbody>\n",
       "</table>\n",
       "</div>"
      ],
      "text/plain": [
       "                     SMA2_Fast  SMA_Slow\n",
       "datetime                                \n",
       "2016-01-08 15:45:00   19.93750  22.32301\n",
       "2016-01-11 15:45:00   19.67750  22.24861\n",
       "2016-01-12 15:45:00   19.42500  22.18011\n",
       "2016-01-13 14:45:00   19.21875  22.11841\n",
       "2016-01-14 15:45:00   18.99500  22.05561"
      ]
     },
     "execution_count": 706,
     "metadata": {},
     "output_type": "execute_result"
    }
   ],
   "source": [
    "# Generate the X_test2 and y_test DataFrames\n",
    "X_test2 = X.loc[training_end:]\n",
    "y_test = y.loc[training_end:]\n",
    "\n",
    "# Review the X_test DataFrame\n",
    "X_test2.head()"
   ]
  },
  {
   "cell_type": "code",
   "execution_count": 707,
   "metadata": {},
   "outputs": [],
   "source": [
    "# Create a StandardScaler instance\n",
    "scaler = StandardScaler()\n",
    "\n",
    "# Apply the scaler model to fit the X-train2 data\n",
    "X_scaler = scaler.fit(X_train2)\n",
    "\n",
    "# Transform the X_train2 and X_test2 DataFrames using the X_scaler\n",
    "X_train2_scaled = X_scaler.transform(X_train2)\n",
    "X_test2_scaled = X_scaler.transform(X_test2)"
   ]
  },
  {
   "cell_type": "code",
   "execution_count": 708,
   "metadata": {},
   "outputs": [
    {
     "data": {
      "text/plain": [
       "array([-1., -1., -1., -1., -1., -1., -1., -1., -1., -1., -1., -1., -1.,\n",
       "       -1., -1., -1., -1., -1., -1., -1., -1., -1., -1., -1., -1., -1.,\n",
       "       -1., -1., -1., -1., -1., -1., -1., -1., -1., -1., -1., -1., -1.,\n",
       "       -1.])"
      ]
     },
     "execution_count": 708,
     "metadata": {},
     "output_type": "execute_result"
    }
   ],
   "source": [
    "# From SVM, instantiate SVC classifier model instance\n",
    "svm2_model = svm.SVC()\n",
    "\n",
    "# Fit the model to the data using the training data\n",
    "svm2_model = svm2_model.fit(X_train2_scaled, y_train)\n",
    "\n",
    "# Use the training data to make the model predictions\n",
    "svm2_pred_training = svm2_model.predict(X_train2_scaled)\n",
    "svm2_pred_training[:40]"
   ]
  },
  {
   "cell_type": "code",
   "execution_count": 709,
   "metadata": {},
   "outputs": [
    {
     "name": "stdout",
     "output_type": "stream",
     "text": [
      "              precision    recall  f1-score   support\n",
      "\n",
      "        -1.0       0.59      1.00      0.74        24\n",
      "         1.0       0.00      0.00      0.00        17\n",
      "\n",
      "    accuracy                           0.59        41\n",
      "   macro avg       0.29      0.50      0.37        41\n",
      "weighted avg       0.34      0.59      0.43        41\n",
      "\n"
     ]
    },
    {
     "name": "stderr",
     "output_type": "stream",
     "text": [
      "/Applications/anaconda3/envs/dev/lib/python3.9/site-packages/sklearn/metrics/_classification.py:1308: UndefinedMetricWarning: Precision and F-score are ill-defined and being set to 0.0 in labels with no predicted samples. Use `zero_division` parameter to control this behavior.\n",
      "  _warn_prf(average, modifier, msg_start, len(result))\n",
      "/Applications/anaconda3/envs/dev/lib/python3.9/site-packages/sklearn/metrics/_classification.py:1308: UndefinedMetricWarning: Precision and F-score are ill-defined and being set to 0.0 in labels with no predicted samples. Use `zero_division` parameter to control this behavior.\n",
      "  _warn_prf(average, modifier, msg_start, len(result))\n",
      "/Applications/anaconda3/envs/dev/lib/python3.9/site-packages/sklearn/metrics/_classification.py:1308: UndefinedMetricWarning: Precision and F-score are ill-defined and being set to 0.0 in labels with no predicted samples. Use `zero_division` parameter to control this behavior.\n",
      "  _warn_prf(average, modifier, msg_start, len(result))\n"
     ]
    }
   ],
   "source": [
    "# Use a classification report to evaluate the model using the predictions and training data\n",
    "svm2_training_report = classification_report(y_train, svm2_pred_training)\n",
    "print(svm2_training_report)"
   ]
  },
  {
   "cell_type": "code",
   "execution_count": 710,
   "metadata": {},
   "outputs": [
    {
     "name": "stdout",
     "output_type": "stream",
     "text": [
      "              precision    recall  f1-score   support\n",
      "\n",
      "        -1.0       0.44      1.00      0.61       404\n",
      "         1.0       0.00      0.00      0.00       515\n",
      "\n",
      "    accuracy                           0.44       919\n",
      "   macro avg       0.22      0.50      0.31       919\n",
      "weighted avg       0.19      0.44      0.27       919\n",
      "\n"
     ]
    },
    {
     "name": "stderr",
     "output_type": "stream",
     "text": [
      "/Applications/anaconda3/envs/dev/lib/python3.9/site-packages/sklearn/metrics/_classification.py:1308: UndefinedMetricWarning: Precision and F-score are ill-defined and being set to 0.0 in labels with no predicted samples. Use `zero_division` parameter to control this behavior.\n",
      "  _warn_prf(average, modifier, msg_start, len(result))\n",
      "/Applications/anaconda3/envs/dev/lib/python3.9/site-packages/sklearn/metrics/_classification.py:1308: UndefinedMetricWarning: Precision and F-score are ill-defined and being set to 0.0 in labels with no predicted samples. Use `zero_division` parameter to control this behavior.\n",
      "  _warn_prf(average, modifier, msg_start, len(result))\n",
      "/Applications/anaconda3/envs/dev/lib/python3.9/site-packages/sklearn/metrics/_classification.py:1308: UndefinedMetricWarning: Precision and F-score are ill-defined and being set to 0.0 in labels with no predicted samples. Use `zero_division` parameter to control this behavior.\n",
      "  _warn_prf(average, modifier, msg_start, len(result))\n"
     ]
    }
   ],
   "source": [
    "# Use the testing data to make the model predictions\n",
    "svm2_pred_testing = svm2_model.predict(X_test2_scaled)\n",
    "\n",
    "# Use a classification report to evaluate the model using the predictions and testing data\n",
    "svm2_testing_report = classification_report(y_test, svm2_pred_testing)\n",
    "print(svm2_testing_report)"
   ]
  },
  {
   "cell_type": "markdown",
   "metadata": {},
   "source": [
    "### Step 3: Choose the set of parameters that best improved the trading algorithm returns. \n",
    "\n",
    "Save a PNG image of the cumulative product of the actual returns vs. the strategy returns, and document your conclusion in your `README.md` file."
   ]
  },
  {
   "cell_type": "code",
   "execution_count": 712,
   "metadata": {},
   "outputs": [
    {
     "data": {
      "text/html": [
       "<div>\n",
       "<style scoped>\n",
       "    .dataframe tbody tr th:only-of-type {\n",
       "        vertical-align: middle;\n",
       "    }\n",
       "\n",
       "    .dataframe tbody tr th {\n",
       "        vertical-align: top;\n",
       "    }\n",
       "\n",
       "    .dataframe thead th {\n",
       "        text-align: right;\n",
       "    }\n",
       "</style>\n",
       "<table border=\"1\" class=\"dataframe\">\n",
       "  <thead>\n",
       "    <tr style=\"text-align: right;\">\n",
       "      <th></th>\n",
       "      <th>Predicted</th>\n",
       "      <th>Actual Returns</th>\n",
       "      <th>Strategy Returns</th>\n",
       "    </tr>\n",
       "    <tr>\n",
       "      <th>datetime</th>\n",
       "      <th></th>\n",
       "      <th></th>\n",
       "      <th></th>\n",
       "    </tr>\n",
       "  </thead>\n",
       "  <tbody>\n",
       "    <tr>\n",
       "      <th>2016-01-08 15:45:00</th>\n",
       "      <td>-1.0</td>\n",
       "      <td>-0.004792</td>\n",
       "      <td>0.004792</td>\n",
       "    </tr>\n",
       "    <tr>\n",
       "      <th>2016-01-11 15:45:00</th>\n",
       "      <td>-1.0</td>\n",
       "      <td>0.000535</td>\n",
       "      <td>-0.000535</td>\n",
       "    </tr>\n",
       "    <tr>\n",
       "      <th>2016-01-12 15:45:00</th>\n",
       "      <td>-1.0</td>\n",
       "      <td>0.002139</td>\n",
       "      <td>-0.002139</td>\n",
       "    </tr>\n",
       "    <tr>\n",
       "      <th>2016-01-13 14:45:00</th>\n",
       "      <td>-1.0</td>\n",
       "      <td>-0.011740</td>\n",
       "      <td>0.011740</td>\n",
       "    </tr>\n",
       "    <tr>\n",
       "      <th>2016-01-14 15:45:00</th>\n",
       "      <td>-1.0</td>\n",
       "      <td>0.009179</td>\n",
       "      <td>-0.009179</td>\n",
       "    </tr>\n",
       "  </tbody>\n",
       "</table>\n",
       "</div>"
      ],
      "text/plain": [
       "                     Predicted  Actual Returns  Strategy Returns\n",
       "datetime                                                        \n",
       "2016-01-08 15:45:00       -1.0       -0.004792          0.004792\n",
       "2016-01-11 15:45:00       -1.0        0.000535         -0.000535\n",
       "2016-01-12 15:45:00       -1.0        0.002139         -0.002139\n",
       "2016-01-13 14:45:00       -1.0       -0.011740          0.011740\n",
       "2016-01-14 15:45:00       -1.0        0.009179         -0.009179"
      ]
     },
     "metadata": {},
     "output_type": "display_data"
    },
    {
     "data": {
      "text/html": [
       "<div>\n",
       "<style scoped>\n",
       "    .dataframe tbody tr th:only-of-type {\n",
       "        vertical-align: middle;\n",
       "    }\n",
       "\n",
       "    .dataframe tbody tr th {\n",
       "        vertical-align: top;\n",
       "    }\n",
       "\n",
       "    .dataframe thead th {\n",
       "        text-align: right;\n",
       "    }\n",
       "</style>\n",
       "<table border=\"1\" class=\"dataframe\">\n",
       "  <thead>\n",
       "    <tr style=\"text-align: right;\">\n",
       "      <th></th>\n",
       "      <th>Predicted</th>\n",
       "      <th>Actual Returns</th>\n",
       "      <th>Strategy Returns</th>\n",
       "    </tr>\n",
       "    <tr>\n",
       "      <th>datetime</th>\n",
       "      <th></th>\n",
       "      <th></th>\n",
       "      <th></th>\n",
       "    </tr>\n",
       "  </thead>\n",
       "  <tbody>\n",
       "    <tr>\n",
       "      <th>2021-01-13 13:15:00</th>\n",
       "      <td>-1.0</td>\n",
       "      <td>0.002149</td>\n",
       "      <td>-0.002149</td>\n",
       "    </tr>\n",
       "    <tr>\n",
       "      <th>2021-01-14 15:45:00</th>\n",
       "      <td>-1.0</td>\n",
       "      <td>0.006126</td>\n",
       "      <td>-0.006126</td>\n",
       "    </tr>\n",
       "    <tr>\n",
       "      <th>2021-01-19 12:30:00</th>\n",
       "      <td>-1.0</td>\n",
       "      <td>0.003653</td>\n",
       "      <td>-0.003653</td>\n",
       "    </tr>\n",
       "    <tr>\n",
       "      <th>2021-01-20 09:45:00</th>\n",
       "      <td>-1.0</td>\n",
       "      <td>0.016075</td>\n",
       "      <td>-0.016075</td>\n",
       "    </tr>\n",
       "    <tr>\n",
       "      <th>2021-01-22 15:45:00</th>\n",
       "      <td>-1.0</td>\n",
       "      <td>-0.001791</td>\n",
       "      <td>0.001791</td>\n",
       "    </tr>\n",
       "  </tbody>\n",
       "</table>\n",
       "</div>"
      ],
      "text/plain": [
       "                     Predicted  Actual Returns  Strategy Returns\n",
       "datetime                                                        \n",
       "2021-01-13 13:15:00       -1.0        0.002149         -0.002149\n",
       "2021-01-14 15:45:00       -1.0        0.006126         -0.006126\n",
       "2021-01-19 12:30:00       -1.0        0.003653         -0.003653\n",
       "2021-01-20 09:45:00       -1.0        0.016075         -0.016075\n",
       "2021-01-22 15:45:00       -1.0       -0.001791          0.001791"
      ]
     },
     "metadata": {},
     "output_type": "display_data"
    }
   ],
   "source": [
    "# Create a predictions DataFrame\n",
    "predictions2_df = pd.DataFrame(index=X_test2.index)\n",
    "\n",
    "# Add the SVM model predictions to the DataFrame\n",
    "predictions2_df['Predicted'] = svm2_pred_testing\n",
    "\n",
    "# Add the actual returns to the DataFrame\n",
    "predictions2_df['Actual Returns'] = signals2_df['Actual Returns']\n",
    "\n",
    "# Add the strategy returns to the DataFrame\n",
    "predictions2_df['Strategy Returns'] = (\n",
    "    predictions2_df['Actual Returns'] * predictions2_df['Predicted']\n",
    ")\n",
    "display(predictions2_df.head())\n",
    "display(predictions2_df.tail())"
   ]
  },
  {
   "cell_type": "code",
   "execution_count": 713,
   "metadata": {},
   "outputs": [
    {
     "data": {
      "text/plain": [
       "<AxesSubplot:xlabel='datetime'>"
      ]
     },
     "execution_count": 713,
     "metadata": {},
     "output_type": "execute_result"
    },
    {
     "data": {
      "image/png": "[encoded data removed]",
      "text/plain": [
       "<Figure size 432x288 with 1 Axes>"
      ]
     },
     "metadata": {
      "needs_background": "light"
     },
     "output_type": "display_data"
    }
   ],
   "source": [
    "# Plot the actual returns versus the strategy returns\n",
    "(1 + predictions2_df[['Actual Returns', 'Strategy Returns']]).cumprod().plot()"
   ]
  },
  {
   "cell_type": "code",
   "execution_count": 715,
   "metadata": {},
   "outputs": [],
   "source": [
    "# Import AdaBoost classifier from SKLearn\n",
    "from sklearn.ensemble import AdaBoostClassifier\n",
    "\n",
    "clf = AdaBoostClassifier(n_estimators=100)\n"
   ]
  },
  {
   "cell_type": "code",
   "execution_count": 716,
   "metadata": {},
   "outputs": [
    {
     "name": "stdout",
     "output_type": "stream",
     "text": [
      "2015-10-08 15:45:00\n"
     ]
    }
   ],
   "source": [
    "# Select the start of the training period\n",
    "training_begin = X.index.min()\n",
    "\n",
    "# Display the training begin date\n",
    "print(training_begin)"
   ]
  },
  {
   "cell_type": "code",
   "execution_count": 717,
   "metadata": {},
   "outputs": [
    {
     "name": "stdout",
     "output_type": "stream",
     "text": [
      "2016-01-08 15:45:00\n"
     ]
    }
   ],
   "source": [
    "# Select the ending period for the training data with an offset of 3 months\n",
    "training_end = X.index.min() + DateOffset(months=3)\n",
    "\n",
    "# Display the training end date\n",
    "print(training_end)"
   ]
  },
  {
   "cell_type": "code",
   "execution_count": 719,
   "metadata": {},
   "outputs": [
    {
     "data": {
      "text/html": [
       "<div>\n",
       "<style scoped>\n",
       "    .dataframe tbody tr th:only-of-type {\n",
       "        vertical-align: middle;\n",
       "    }\n",
       "\n",
       "    .dataframe tbody tr th {\n",
       "        vertical-align: top;\n",
       "    }\n",
       "\n",
       "    .dataframe thead th {\n",
       "        text-align: right;\n",
       "    }\n",
       "</style>\n",
       "<table border=\"1\" class=\"dataframe\">\n",
       "  <thead>\n",
       "    <tr style=\"text-align: right;\">\n",
       "      <th></th>\n",
       "      <th>SMA2_Fast</th>\n",
       "      <th>SMA_Slow</th>\n",
       "    </tr>\n",
       "    <tr>\n",
       "      <th>datetime</th>\n",
       "      <th></th>\n",
       "      <th></th>\n",
       "    </tr>\n",
       "  </thead>\n",
       "  <tbody>\n",
       "    <tr>\n",
       "      <th>2015-10-08 15:45:00</th>\n",
       "      <td>21.45875</td>\n",
       "      <td>23.6922</td>\n",
       "    </tr>\n",
       "    <tr>\n",
       "      <th>2015-10-12 15:30:00</th>\n",
       "      <td>21.58250</td>\n",
       "      <td>23.6726</td>\n",
       "    </tr>\n",
       "    <tr>\n",
       "      <th>2015-10-13 15:45:00</th>\n",
       "      <td>21.65375</td>\n",
       "      <td>23.6537</td>\n",
       "    </tr>\n",
       "    <tr>\n",
       "      <th>2015-10-14 12:30:00</th>\n",
       "      <td>21.86625</td>\n",
       "      <td>23.6339</td>\n",
       "    </tr>\n",
       "    <tr>\n",
       "      <th>2015-10-15 11:15:00</th>\n",
       "      <td>22.03375</td>\n",
       "      <td>23.6166</td>\n",
       "    </tr>\n",
       "  </tbody>\n",
       "</table>\n",
       "</div>"
      ],
      "text/plain": [
       "                     SMA2_Fast  SMA_Slow\n",
       "datetime                                \n",
       "2015-10-08 15:45:00   21.45875   23.6922\n",
       "2015-10-12 15:30:00   21.58250   23.6726\n",
       "2015-10-13 15:45:00   21.65375   23.6537\n",
       "2015-10-14 12:30:00   21.86625   23.6339\n",
       "2015-10-15 11:15:00   22.03375   23.6166"
      ]
     },
     "execution_count": 719,
     "metadata": {},
     "output_type": "execute_result"
    }
   ],
   "source": [
    "# Generate the X_train2 and y_train DataFrames\n",
    "X_train2 = X.loc[training_begin:training_end]\n",
    "y_train = y.loc[training_begin:training_end]\n",
    "\n",
    "# Review the X_train DataFrame\n",
    "X_train2.head()"
   ]
  },
  {
   "cell_type": "code",
   "execution_count": 720,
   "metadata": {},
   "outputs": [
    {
     "data": {
      "text/html": [
       "<div>\n",
       "<style scoped>\n",
       "    .dataframe tbody tr th:only-of-type {\n",
       "        vertical-align: middle;\n",
       "    }\n",
       "\n",
       "    .dataframe tbody tr th {\n",
       "        vertical-align: top;\n",
       "    }\n",
       "\n",
       "    .dataframe thead th {\n",
       "        text-align: right;\n",
       "    }\n",
       "</style>\n",
       "<table border=\"1\" class=\"dataframe\">\n",
       "  <thead>\n",
       "    <tr style=\"text-align: right;\">\n",
       "      <th></th>\n",
       "      <th>SMA2_Fast</th>\n",
       "      <th>SMA_Slow</th>\n",
       "    </tr>\n",
       "    <tr>\n",
       "      <th>datetime</th>\n",
       "      <th></th>\n",
       "      <th></th>\n",
       "    </tr>\n",
       "  </thead>\n",
       "  <tbody>\n",
       "    <tr>\n",
       "      <th>2016-01-08 15:45:00</th>\n",
       "      <td>19.93750</td>\n",
       "      <td>22.32301</td>\n",
       "    </tr>\n",
       "    <tr>\n",
       "      <th>2016-01-11 15:45:00</th>\n",
       "      <td>19.67750</td>\n",
       "      <td>22.24861</td>\n",
       "    </tr>\n",
       "    <tr>\n",
       "      <th>2016-01-12 15:45:00</th>\n",
       "      <td>19.42500</td>\n",
       "      <td>22.18011</td>\n",
       "    </tr>\n",
       "    <tr>\n",
       "      <th>2016-01-13 14:45:00</th>\n",
       "      <td>19.21875</td>\n",
       "      <td>22.11841</td>\n",
       "    </tr>\n",
       "    <tr>\n",
       "      <th>2016-01-14 15:45:00</th>\n",
       "      <td>18.99500</td>\n",
       "      <td>22.05561</td>\n",
       "    </tr>\n",
       "  </tbody>\n",
       "</table>\n",
       "</div>"
      ],
      "text/plain": [
       "                     SMA2_Fast  SMA_Slow\n",
       "datetime                                \n",
       "2016-01-08 15:45:00   19.93750  22.32301\n",
       "2016-01-11 15:45:00   19.67750  22.24861\n",
       "2016-01-12 15:45:00   19.42500  22.18011\n",
       "2016-01-13 14:45:00   19.21875  22.11841\n",
       "2016-01-14 15:45:00   18.99500  22.05561"
      ]
     },
     "execution_count": 720,
     "metadata": {},
     "output_type": "execute_result"
    }
   ],
   "source": [
    "# Generate the X_test2 and y_test DataFrames\n",
    "X_test2 = X.loc[training_end:]\n",
    "y_test = y.loc[training_end:]\n",
    "\n",
    "# Review the X_test DataFrame\n",
    "X_test2.head()"
   ]
  },
  {
   "cell_type": "code",
   "execution_count": 722,
   "metadata": {},
   "outputs": [],
   "source": [
    "# Scale the features DataFrames\n",
    "\n",
    "# Create a StandardScaler instance\n",
    "scaler = StandardScaler()\n",
    "\n",
    "# Apply the scaler model to fit the X-train2 data\n",
    "X_scaler = scaler.fit(X_train2)\n",
    "\n",
    "# Transform the X_train2 and X_test2 DataFrames using the X_scaler\n",
    "X_train_scaled2 = X_scaler.transform(X_train2)\n",
    "X_test_scaled2 = X_scaler.transform(X_test2)"
   ]
  },
  {
   "cell_type": "code",
   "execution_count": 723,
   "metadata": {},
   "outputs": [
    {
     "data": {
      "text/plain": [
       "array([ 1., -1., -1.,  1.,  1.,  1., -1.,  1., -1., -1., -1.,  1.,  1.,\n",
       "       -1.,  1., -1., -1., -1.,  1.,  1.,  1., -1., -1.,  1., -1., -1.,\n",
       "       -1., -1.,  1.,  1.,  1., -1.,  1., -1., -1., -1., -1.,  1., -1.,\n",
       "       -1., -1.])"
      ]
     },
     "execution_count": 723,
     "metadata": {},
     "output_type": "execute_result"
    }
   ],
   "source": [
    "# Fit the model using the training data\n",
    "model = clf.fit(X_train_scaled2, y_train)\n",
    "\n",
    "# Use the training dataset to generate the predictions for the new model\n",
    "clf_pred_training = clf.predict(X_train_scaled2)\n",
    "\n",
    "#Review the model's predicted values\n",
    "clf_pred_training"
   ]
  },
  {
   "cell_type": "code",
   "execution_count": 724,
   "metadata": {},
   "outputs": [
    {
     "name": "stdout",
     "output_type": "stream",
     "text": [
      "              precision    recall  f1-score   support\n",
      "\n",
      "        -1.0       1.00      1.00      1.00        24\n",
      "         1.0       1.00      1.00      1.00        17\n",
      "\n",
      "    accuracy                           1.00        41\n",
      "   macro avg       1.00      1.00      1.00        41\n",
      "weighted avg       1.00      1.00      1.00        41\n",
      "\n"
     ]
    }
   ],
   "source": [
    "# Use a classification report to evaluate the model using the predictions and training data\n",
    "clf_training_report = classification_report(y_train, clf_pred_training)\n",
    "print(clf_training_report)"
   ]
  },
  {
   "cell_type": "code",
   "execution_count": 726,
   "metadata": {},
   "outputs": [
    {
     "name": "stdout",
     "output_type": "stream",
     "text": [
      "              precision    recall  f1-score   support\n",
      "\n",
      "        -1.0       0.44      0.98      0.61       404\n",
      "         1.0       0.61      0.03      0.05       515\n",
      "\n",
      "    accuracy                           0.45       919\n",
      "   macro avg       0.52      0.50      0.33       919\n",
      "weighted avg       0.53      0.45      0.30       919\n",
      "\n"
     ]
    }
   ],
   "source": [
    "# Use the testing data to make the model predictions\n",
    "clf_pred_testing = model.predict(X_test2_scaled)\n",
    "\n",
    "# Use a classification report to evaluate the model using the predictions and testing data\n",
    "clf_testing_report = classification_report(y_test, clf_pred_testing)\n",
    "print(clf_testing_report)"
   ]
  },
  {
   "cell_type": "code",
   "execution_count": 727,
   "metadata": {},
   "outputs": [
    {
     "name": "stdout",
     "output_type": "stream",
     "text": [
      "              precision    recall  f1-score   support\n",
      "\n",
      "        -1.0       0.44      0.98      0.61       404\n",
      "         1.0       0.61      0.03      0.05       515\n",
      "\n",
      "    accuracy                           0.45       919\n",
      "   macro avg       0.52      0.50      0.33       919\n",
      "weighted avg       0.53      0.45      0.30       919\n",
      "\n"
     ]
    }
   ],
   "source": [
    "# Use a classification report to evaluate the model using the predictions and testing data\n",
    "clf_testing_report = classification_report(y_test, clf_pred_testing)\n",
    "\n",
    "# Print the classification report\n",
    "print(clf_testing_report)\n"
   ]
  },
  {
   "cell_type": "code",
   "execution_count": 728,
   "metadata": {},
   "outputs": [
    {
     "data": {
      "text/html": [
       "<div>\n",
       "<style scoped>\n",
       "    .dataframe tbody tr th:only-of-type {\n",
       "        vertical-align: middle;\n",
       "    }\n",
       "\n",
       "    .dataframe tbody tr th {\n",
       "        vertical-align: top;\n",
       "    }\n",
       "\n",
       "    .dataframe thead th {\n",
       "        text-align: right;\n",
       "    }\n",
       "</style>\n",
       "<table border=\"1\" class=\"dataframe\">\n",
       "  <thead>\n",
       "    <tr style=\"text-align: right;\">\n",
       "      <th></th>\n",
       "      <th>Predicted</th>\n",
       "      <th>Actual Returns</th>\n",
       "      <th>Strategy Returns</th>\n",
       "    </tr>\n",
       "    <tr>\n",
       "      <th>datetime</th>\n",
       "      <th></th>\n",
       "      <th></th>\n",
       "      <th></th>\n",
       "    </tr>\n",
       "  </thead>\n",
       "  <tbody>\n",
       "    <tr>\n",
       "      <th>2016-01-08 15:45:00</th>\n",
       "      <td>-1.0</td>\n",
       "      <td>-0.004792</td>\n",
       "      <td>0.004792</td>\n",
       "    </tr>\n",
       "    <tr>\n",
       "      <th>2016-01-11 15:45:00</th>\n",
       "      <td>-1.0</td>\n",
       "      <td>0.000535</td>\n",
       "      <td>-0.000535</td>\n",
       "    </tr>\n",
       "    <tr>\n",
       "      <th>2016-01-12 15:45:00</th>\n",
       "      <td>-1.0</td>\n",
       "      <td>0.002139</td>\n",
       "      <td>-0.002139</td>\n",
       "    </tr>\n",
       "    <tr>\n",
       "      <th>2016-01-13 14:45:00</th>\n",
       "      <td>-1.0</td>\n",
       "      <td>-0.011740</td>\n",
       "      <td>0.011740</td>\n",
       "    </tr>\n",
       "    <tr>\n",
       "      <th>2016-01-14 15:45:00</th>\n",
       "      <td>-1.0</td>\n",
       "      <td>0.009179</td>\n",
       "      <td>-0.009179</td>\n",
       "    </tr>\n",
       "  </tbody>\n",
       "</table>\n",
       "</div>"
      ],
      "text/plain": [
       "                     Predicted  Actual Returns  Strategy Returns\n",
       "datetime                                                        \n",
       "2016-01-08 15:45:00       -1.0       -0.004792          0.004792\n",
       "2016-01-11 15:45:00       -1.0        0.000535         -0.000535\n",
       "2016-01-12 15:45:00       -1.0        0.002139         -0.002139\n",
       "2016-01-13 14:45:00       -1.0       -0.011740          0.011740\n",
       "2016-01-14 15:45:00       -1.0        0.009179         -0.009179"
      ]
     },
     "metadata": {},
     "output_type": "display_data"
    }
   ],
   "source": [
    "# Create a predictions DataFrame\n",
    "clf_pred_df = pd.DataFrame(index=X_test2.index)\n",
    "\n",
    "# Add the SVM model predictions to the DataFrame\n",
    "clf_pred_df['Predicted'] = clf_pred_testing\n",
    "\n",
    "# Add the actual returns to the DataFrame\n",
    "clf_pred_df['Actual Returns'] = signals_df['Actual Returns']\n",
    "\n",
    "# Add the strategy returns to the DataFrame\n",
    "clf_pred_df['Strategy Returns'] = (\n",
    "    clf_pred_df['Actual Returns'] * clf_pred_df['Predicted']\n",
    ")\n",
    "                                   \n",
    "\n",
    "# Review the DataFrame\n",
    "display(clf_pred_df.head())\n"
   ]
  },
  {
   "cell_type": "code",
   "execution_count": 729,
   "metadata": {},
   "outputs": [
    {
     "data": {
      "text/plain": [
       "<AxesSubplot:xlabel='datetime'>"
      ]
     },
     "execution_count": 729,
     "metadata": {},
     "output_type": "execute_result"
    },
    {
     "data": {
      "image/png": "[encoded data removed]",
      "text/plain": [
       "<Figure size 432x288 with 1 Axes>"
      ]
     },
     "metadata": {
      "needs_background": "light"
     },
     "output_type": "display_data"
    }
   ],
   "source": [
    "# Plot the actual returns versus the strategy returns\n",
    "(1 + clf_pred_df[['Actual Returns', 'Strategy Returns']]).cumprod().plot()"
   ]
  },
  {
   "cell_type": "code",
   "execution_count": null,
   "metadata": {},
   "outputs": [],
   "source": []
  },
  {
   "cell_type": "code",
   "execution_count": null,
   "metadata": {},
   "outputs": [],
   "source": []
  }
 ],
 "metadata": {
  "kernelspec": {
   "display_name": "dev",
   "language": "python",
   "name": "dev"
  },
  "language_info": {
   "codemirror_mode": {
    "name": "ipython",
    "version": 3
   },
   "file_extension": ".py",
   "mimetype": "text/x-python",
   "name": "python",
   "nbconvert_exporter": "python",
   "pygments_lexer": "ipython3",
   "version": "3.9.7"
  }
 },
 "nbformat": 4,
 "nbformat_minor": 4
}
